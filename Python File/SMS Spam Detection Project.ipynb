{
 "cells": [
  {
   "cell_type": "code",
   "execution_count": 1,
   "id": "e209f126",
   "metadata": {},
   "outputs": [],
   "source": [
    "import matplotlib.pyplot as plt\n",
    "import pandas as pd\n",
    "import numpy as np\n",
    "import seaborn as sns\n",
    "import matplotlib.pyplot as plt\n",
    "%matplotlib inline\n",
    "\n",
    "from sklearn import datasets, linear_model, metrics\n",
    "from sklearn.model_selection import train_test_split\n",
    "from sklearn.preprocessing import OneHotEncoder, StandardScaler\n",
    "from sklearn.linear_model import LinearRegression\n",
    "from sklearn.metrics import accuracy_score"
   ]
  },
  {
   "cell_type": "code",
   "execution_count": 2,
   "id": "0924868d",
   "metadata": {},
   "outputs": [
    {
     "data": {
      "text/html": [
       "<div>\n",
       "<style scoped>\n",
       "    .dataframe tbody tr th:only-of-type {\n",
       "        vertical-align: middle;\n",
       "    }\n",
       "\n",
       "    .dataframe tbody tr th {\n",
       "        vertical-align: top;\n",
       "    }\n",
       "\n",
       "    .dataframe thead th {\n",
       "        text-align: right;\n",
       "    }\n",
       "</style>\n",
       "<table border=\"1\" class=\"dataframe\">\n",
       "  <thead>\n",
       "    <tr style=\"text-align: right;\">\n",
       "      <th></th>\n",
       "      <th>v1</th>\n",
       "      <th>v2</th>\n",
       "    </tr>\n",
       "  </thead>\n",
       "  <tbody>\n",
       "    <tr>\n",
       "      <th>0</th>\n",
       "      <td>ham</td>\n",
       "      <td>Go until jurong point, crazy.. Available only ...</td>\n",
       "    </tr>\n",
       "    <tr>\n",
       "      <th>1</th>\n",
       "      <td>ham</td>\n",
       "      <td>Ok lar... Joking wif u oni...</td>\n",
       "    </tr>\n",
       "    <tr>\n",
       "      <th>2</th>\n",
       "      <td>spam</td>\n",
       "      <td>Free entry in 2 a wkly comp to win FA Cup fina...</td>\n",
       "    </tr>\n",
       "    <tr>\n",
       "      <th>3</th>\n",
       "      <td>ham</td>\n",
       "      <td>U dun say so early hor... U c already then say...</td>\n",
       "    </tr>\n",
       "    <tr>\n",
       "      <th>4</th>\n",
       "      <td>ham</td>\n",
       "      <td>Nah I don't think he goes to usf, he lives aro...</td>\n",
       "    </tr>\n",
       "  </tbody>\n",
       "</table>\n",
       "</div>"
      ],
      "text/plain": [
       "     v1                                                 v2\n",
       "0   ham  Go until jurong point, crazy.. Available only ...\n",
       "1   ham                      Ok lar... Joking wif u oni...\n",
       "2  spam  Free entry in 2 a wkly comp to win FA Cup fina...\n",
       "3   ham  U dun say so early hor... U c already then say...\n",
       "4   ham  Nah I don't think he goes to usf, he lives aro..."
      ]
     },
     "execution_count": 2,
     "metadata": {},
     "output_type": "execute_result"
    }
   ],
   "source": [
    "df = pd.read_csv(\"C:/Users/snigd/Downloads/Message_Data_Spam (1).csv\", encoding='latin-1')\n",
    "df.head()"
   ]
  },
  {
   "cell_type": "code",
   "execution_count": 3,
   "id": "5b014163",
   "metadata": {
    "scrolled": true
   },
   "outputs": [
    {
     "data": {
      "text/plain": [
       "v1    0\n",
       "v2    0\n",
       "dtype: int64"
      ]
     },
     "execution_count": 3,
     "metadata": {},
     "output_type": "execute_result"
    }
   ],
   "source": [
    "df.isnull().sum()"
   ]
  },
  {
   "cell_type": "code",
   "execution_count": 4,
   "id": "7c8d314d",
   "metadata": {},
   "outputs": [
    {
     "data": {
      "text/plain": [
       "403"
      ]
     },
     "execution_count": 4,
     "metadata": {},
     "output_type": "execute_result"
    }
   ],
   "source": [
    "df.duplicated().sum()"
   ]
  },
  {
   "cell_type": "code",
   "execution_count": 5,
   "id": "47d2e5bc",
   "metadata": {},
   "outputs": [],
   "source": [
    "df.rename(columns={'v1':'spam', 'v2':'Message'}, inplace=True)"
   ]
  },
  {
   "cell_type": "code",
   "execution_count": 6,
   "id": "c9c1eb11",
   "metadata": {},
   "outputs": [
    {
     "data": {
      "text/html": [
       "<div>\n",
       "<style scoped>\n",
       "    .dataframe tbody tr th:only-of-type {\n",
       "        vertical-align: middle;\n",
       "    }\n",
       "\n",
       "    .dataframe tbody tr th {\n",
       "        vertical-align: top;\n",
       "    }\n",
       "\n",
       "    .dataframe thead th {\n",
       "        text-align: right;\n",
       "    }\n",
       "</style>\n",
       "<table border=\"1\" class=\"dataframe\">\n",
       "  <thead>\n",
       "    <tr style=\"text-align: right;\">\n",
       "      <th></th>\n",
       "      <th>spam</th>\n",
       "      <th>Message</th>\n",
       "    </tr>\n",
       "  </thead>\n",
       "  <tbody>\n",
       "    <tr>\n",
       "      <th>0</th>\n",
       "      <td>ham</td>\n",
       "      <td>Go until jurong point, crazy.. Available only ...</td>\n",
       "    </tr>\n",
       "    <tr>\n",
       "      <th>1</th>\n",
       "      <td>ham</td>\n",
       "      <td>Ok lar... Joking wif u oni...</td>\n",
       "    </tr>\n",
       "    <tr>\n",
       "      <th>2</th>\n",
       "      <td>spam</td>\n",
       "      <td>Free entry in 2 a wkly comp to win FA Cup fina...</td>\n",
       "    </tr>\n",
       "    <tr>\n",
       "      <th>3</th>\n",
       "      <td>ham</td>\n",
       "      <td>U dun say so early hor... U c already then say...</td>\n",
       "    </tr>\n",
       "    <tr>\n",
       "      <th>4</th>\n",
       "      <td>ham</td>\n",
       "      <td>Nah I don't think he goes to usf, he lives aro...</td>\n",
       "    </tr>\n",
       "    <tr>\n",
       "      <th>...</th>\n",
       "      <td>...</td>\n",
       "      <td>...</td>\n",
       "    </tr>\n",
       "    <tr>\n",
       "      <th>5567</th>\n",
       "      <td>spam</td>\n",
       "      <td>This is the 2nd time we have tried 2 contact u...</td>\n",
       "    </tr>\n",
       "    <tr>\n",
       "      <th>5568</th>\n",
       "      <td>ham</td>\n",
       "      <td>Will Ì_ b going to esplanade fr home?</td>\n",
       "    </tr>\n",
       "    <tr>\n",
       "      <th>5569</th>\n",
       "      <td>ham</td>\n",
       "      <td>Pity, * was in mood for that. So...any other s...</td>\n",
       "    </tr>\n",
       "    <tr>\n",
       "      <th>5570</th>\n",
       "      <td>ham</td>\n",
       "      <td>The guy did some bitching but I acted like i'd...</td>\n",
       "    </tr>\n",
       "    <tr>\n",
       "      <th>5571</th>\n",
       "      <td>ham</td>\n",
       "      <td>Rofl. Its true to its name</td>\n",
       "    </tr>\n",
       "  </tbody>\n",
       "</table>\n",
       "<p>5572 rows × 2 columns</p>\n",
       "</div>"
      ],
      "text/plain": [
       "      spam                                            Message\n",
       "0      ham  Go until jurong point, crazy.. Available only ...\n",
       "1      ham                      Ok lar... Joking wif u oni...\n",
       "2     spam  Free entry in 2 a wkly comp to win FA Cup fina...\n",
       "3      ham  U dun say so early hor... U c already then say...\n",
       "4      ham  Nah I don't think he goes to usf, he lives aro...\n",
       "...    ...                                                ...\n",
       "5567  spam  This is the 2nd time we have tried 2 contact u...\n",
       "5568   ham              Will Ì_ b going to esplanade fr home?\n",
       "5569   ham  Pity, * was in mood for that. So...any other s...\n",
       "5570   ham  The guy did some bitching but I acted like i'd...\n",
       "5571   ham                         Rofl. Its true to its name\n",
       "\n",
       "[5572 rows x 2 columns]"
      ]
     },
     "execution_count": 6,
     "metadata": {},
     "output_type": "execute_result"
    }
   ],
   "source": [
    "df"
   ]
  },
  {
   "cell_type": "code",
   "execution_count": 7,
   "id": "54600de1",
   "metadata": {},
   "outputs": [],
   "source": [
    "df['spam'] = pd.get_dummies(df['spam'], columns='spam', drop_first=True)"
   ]
  },
  {
   "cell_type": "code",
   "execution_count": 8,
   "id": "30f27f51",
   "metadata": {},
   "outputs": [
    {
     "data": {
      "text/html": [
       "<div>\n",
       "<style scoped>\n",
       "    .dataframe tbody tr th:only-of-type {\n",
       "        vertical-align: middle;\n",
       "    }\n",
       "\n",
       "    .dataframe tbody tr th {\n",
       "        vertical-align: top;\n",
       "    }\n",
       "\n",
       "    .dataframe thead th {\n",
       "        text-align: right;\n",
       "    }\n",
       "</style>\n",
       "<table border=\"1\" class=\"dataframe\">\n",
       "  <thead>\n",
       "    <tr style=\"text-align: right;\">\n",
       "      <th></th>\n",
       "      <th>spam</th>\n",
       "      <th>Message</th>\n",
       "    </tr>\n",
       "  </thead>\n",
       "  <tbody>\n",
       "    <tr>\n",
       "      <th>0</th>\n",
       "      <td>0</td>\n",
       "      <td>Go until jurong point, crazy.. Available only ...</td>\n",
       "    </tr>\n",
       "    <tr>\n",
       "      <th>1</th>\n",
       "      <td>0</td>\n",
       "      <td>Ok lar... Joking wif u oni...</td>\n",
       "    </tr>\n",
       "    <tr>\n",
       "      <th>2</th>\n",
       "      <td>1</td>\n",
       "      <td>Free entry in 2 a wkly comp to win FA Cup fina...</td>\n",
       "    </tr>\n",
       "    <tr>\n",
       "      <th>3</th>\n",
       "      <td>0</td>\n",
       "      <td>U dun say so early hor... U c already then say...</td>\n",
       "    </tr>\n",
       "    <tr>\n",
       "      <th>4</th>\n",
       "      <td>0</td>\n",
       "      <td>Nah I don't think he goes to usf, he lives aro...</td>\n",
       "    </tr>\n",
       "    <tr>\n",
       "      <th>...</th>\n",
       "      <td>...</td>\n",
       "      <td>...</td>\n",
       "    </tr>\n",
       "    <tr>\n",
       "      <th>5567</th>\n",
       "      <td>1</td>\n",
       "      <td>This is the 2nd time we have tried 2 contact u...</td>\n",
       "    </tr>\n",
       "    <tr>\n",
       "      <th>5568</th>\n",
       "      <td>0</td>\n",
       "      <td>Will Ì_ b going to esplanade fr home?</td>\n",
       "    </tr>\n",
       "    <tr>\n",
       "      <th>5569</th>\n",
       "      <td>0</td>\n",
       "      <td>Pity, * was in mood for that. So...any other s...</td>\n",
       "    </tr>\n",
       "    <tr>\n",
       "      <th>5570</th>\n",
       "      <td>0</td>\n",
       "      <td>The guy did some bitching but I acted like i'd...</td>\n",
       "    </tr>\n",
       "    <tr>\n",
       "      <th>5571</th>\n",
       "      <td>0</td>\n",
       "      <td>Rofl. Its true to its name</td>\n",
       "    </tr>\n",
       "  </tbody>\n",
       "</table>\n",
       "<p>5572 rows × 2 columns</p>\n",
       "</div>"
      ],
      "text/plain": [
       "      spam                                            Message\n",
       "0        0  Go until jurong point, crazy.. Available only ...\n",
       "1        0                      Ok lar... Joking wif u oni...\n",
       "2        1  Free entry in 2 a wkly comp to win FA Cup fina...\n",
       "3        0  U dun say so early hor... U c already then say...\n",
       "4        0  Nah I don't think he goes to usf, he lives aro...\n",
       "...    ...                                                ...\n",
       "5567     1  This is the 2nd time we have tried 2 contact u...\n",
       "5568     0              Will Ì_ b going to esplanade fr home?\n",
       "5569     0  Pity, * was in mood for that. So...any other s...\n",
       "5570     0  The guy did some bitching but I acted like i'd...\n",
       "5571     0                         Rofl. Its true to its name\n",
       "\n",
       "[5572 rows x 2 columns]"
      ]
     },
     "execution_count": 8,
     "metadata": {},
     "output_type": "execute_result"
    }
   ],
   "source": [
    "df"
   ]
  },
  {
   "cell_type": "code",
   "execution_count": 9,
   "id": "ffa4c078",
   "metadata": {},
   "outputs": [
    {
     "data": {
      "text/plain": [
       "spam       0\n",
       "Message    0\n",
       "dtype: int64"
      ]
     },
     "execution_count": 9,
     "metadata": {},
     "output_type": "execute_result"
    }
   ],
   "source": [
    "df.isnull().sum()"
   ]
  },
  {
   "cell_type": "code",
   "execution_count": 10,
   "id": "45614d13",
   "metadata": {},
   "outputs": [
    {
     "data": {
      "text/plain": [
       "0    309\n",
       "1     94\n",
       "Name: spam, dtype: int64"
      ]
     },
     "execution_count": 10,
     "metadata": {},
     "output_type": "execute_result"
    }
   ],
   "source": [
    "df[df.duplicated()].spam.value_counts()"
   ]
  },
  {
   "cell_type": "code",
   "execution_count": 11,
   "id": "b0b485d4",
   "metadata": {},
   "outputs": [
    {
     "data": {
      "text/plain": [
       "0    4825\n",
       "1     747\n",
       "Name: spam, dtype: int64"
      ]
     },
     "execution_count": 11,
     "metadata": {},
     "output_type": "execute_result"
    }
   ],
   "source": [
    "df['spam'].value_counts()"
   ]
  },
  {
   "cell_type": "code",
   "execution_count": 12,
   "id": "2937312c",
   "metadata": {},
   "outputs": [],
   "source": [
    "df.drop_duplicates(inplace=True)"
   ]
  },
  {
   "cell_type": "code",
   "execution_count": 13,
   "id": "94ed4723",
   "metadata": {},
   "outputs": [
    {
     "data": {
      "text/html": [
       "<div>\n",
       "<style scoped>\n",
       "    .dataframe tbody tr th:only-of-type {\n",
       "        vertical-align: middle;\n",
       "    }\n",
       "\n",
       "    .dataframe tbody tr th {\n",
       "        vertical-align: top;\n",
       "    }\n",
       "\n",
       "    .dataframe thead th {\n",
       "        text-align: right;\n",
       "    }\n",
       "</style>\n",
       "<table border=\"1\" class=\"dataframe\">\n",
       "  <thead>\n",
       "    <tr style=\"text-align: right;\">\n",
       "      <th></th>\n",
       "      <th>spam</th>\n",
       "      <th>Message</th>\n",
       "    </tr>\n",
       "  </thead>\n",
       "  <tbody>\n",
       "    <tr>\n",
       "      <th>count</th>\n",
       "      <td>5169.000000</td>\n",
       "      <td>5169</td>\n",
       "    </tr>\n",
       "    <tr>\n",
       "      <th>unique</th>\n",
       "      <td>NaN</td>\n",
       "      <td>5169</td>\n",
       "    </tr>\n",
       "    <tr>\n",
       "      <th>top</th>\n",
       "      <td>NaN</td>\n",
       "      <td>Go until jurong point, crazy.. Available only ...</td>\n",
       "    </tr>\n",
       "    <tr>\n",
       "      <th>freq</th>\n",
       "      <td>NaN</td>\n",
       "      <td>1</td>\n",
       "    </tr>\n",
       "    <tr>\n",
       "      <th>mean</th>\n",
       "      <td>0.126330</td>\n",
       "      <td>NaN</td>\n",
       "    </tr>\n",
       "    <tr>\n",
       "      <th>std</th>\n",
       "      <td>0.332253</td>\n",
       "      <td>NaN</td>\n",
       "    </tr>\n",
       "    <tr>\n",
       "      <th>min</th>\n",
       "      <td>0.000000</td>\n",
       "      <td>NaN</td>\n",
       "    </tr>\n",
       "    <tr>\n",
       "      <th>25%</th>\n",
       "      <td>0.000000</td>\n",
       "      <td>NaN</td>\n",
       "    </tr>\n",
       "    <tr>\n",
       "      <th>50%</th>\n",
       "      <td>0.000000</td>\n",
       "      <td>NaN</td>\n",
       "    </tr>\n",
       "    <tr>\n",
       "      <th>75%</th>\n",
       "      <td>0.000000</td>\n",
       "      <td>NaN</td>\n",
       "    </tr>\n",
       "    <tr>\n",
       "      <th>max</th>\n",
       "      <td>1.000000</td>\n",
       "      <td>NaN</td>\n",
       "    </tr>\n",
       "  </tbody>\n",
       "</table>\n",
       "</div>"
      ],
      "text/plain": [
       "               spam                                            Message\n",
       "count   5169.000000                                               5169\n",
       "unique          NaN                                               5169\n",
       "top             NaN  Go until jurong point, crazy.. Available only ...\n",
       "freq            NaN                                                  1\n",
       "mean       0.126330                                                NaN\n",
       "std        0.332253                                                NaN\n",
       "min        0.000000                                                NaN\n",
       "25%        0.000000                                                NaN\n",
       "50%        0.000000                                                NaN\n",
       "75%        0.000000                                                NaN\n",
       "max        1.000000                                                NaN"
      ]
     },
     "execution_count": 13,
     "metadata": {},
     "output_type": "execute_result"
    }
   ],
   "source": [
    "df.describe(include='all')"
   ]
  },
  {
   "cell_type": "code",
   "execution_count": 14,
   "id": "1857c687",
   "metadata": {},
   "outputs": [
    {
     "data": {
      "text/html": [
       "<div>\n",
       "<style scoped>\n",
       "    .dataframe tbody tr th:only-of-type {\n",
       "        vertical-align: middle;\n",
       "    }\n",
       "\n",
       "    .dataframe tbody tr th {\n",
       "        vertical-align: top;\n",
       "    }\n",
       "\n",
       "    .dataframe thead th {\n",
       "        text-align: right;\n",
       "    }\n",
       "</style>\n",
       "<table border=\"1\" class=\"dataframe\">\n",
       "  <thead>\n",
       "    <tr style=\"text-align: right;\">\n",
       "      <th></th>\n",
       "      <th>spam</th>\n",
       "      <th>Message</th>\n",
       "    </tr>\n",
       "  </thead>\n",
       "  <tbody>\n",
       "    <tr>\n",
       "      <th>0</th>\n",
       "      <td>0</td>\n",
       "      <td>Go until jurong point, crazy.. Available only ...</td>\n",
       "    </tr>\n",
       "    <tr>\n",
       "      <th>1</th>\n",
       "      <td>0</td>\n",
       "      <td>Ok lar... Joking wif u oni...</td>\n",
       "    </tr>\n",
       "    <tr>\n",
       "      <th>2</th>\n",
       "      <td>1</td>\n",
       "      <td>Free entry in 2 a wkly comp to win FA Cup fina...</td>\n",
       "    </tr>\n",
       "    <tr>\n",
       "      <th>3</th>\n",
       "      <td>0</td>\n",
       "      <td>U dun say so early hor... U c already then say...</td>\n",
       "    </tr>\n",
       "    <tr>\n",
       "      <th>4</th>\n",
       "      <td>0</td>\n",
       "      <td>Nah I don't think he goes to usf, he lives aro...</td>\n",
       "    </tr>\n",
       "    <tr>\n",
       "      <th>...</th>\n",
       "      <td>...</td>\n",
       "      <td>...</td>\n",
       "    </tr>\n",
       "    <tr>\n",
       "      <th>5567</th>\n",
       "      <td>1</td>\n",
       "      <td>This is the 2nd time we have tried 2 contact u...</td>\n",
       "    </tr>\n",
       "    <tr>\n",
       "      <th>5568</th>\n",
       "      <td>0</td>\n",
       "      <td>Will Ì_ b going to esplanade fr home?</td>\n",
       "    </tr>\n",
       "    <tr>\n",
       "      <th>5569</th>\n",
       "      <td>0</td>\n",
       "      <td>Pity, * was in mood for that. So...any other s...</td>\n",
       "    </tr>\n",
       "    <tr>\n",
       "      <th>5570</th>\n",
       "      <td>0</td>\n",
       "      <td>The guy did some bitching but I acted like i'd...</td>\n",
       "    </tr>\n",
       "    <tr>\n",
       "      <th>5571</th>\n",
       "      <td>0</td>\n",
       "      <td>Rofl. Its true to its name</td>\n",
       "    </tr>\n",
       "  </tbody>\n",
       "</table>\n",
       "<p>5169 rows × 2 columns</p>\n",
       "</div>"
      ],
      "text/plain": [
       "      spam                                            Message\n",
       "0        0  Go until jurong point, crazy.. Available only ...\n",
       "1        0                      Ok lar... Joking wif u oni...\n",
       "2        1  Free entry in 2 a wkly comp to win FA Cup fina...\n",
       "3        0  U dun say so early hor... U c already then say...\n",
       "4        0  Nah I don't think he goes to usf, he lives aro...\n",
       "...    ...                                                ...\n",
       "5567     1  This is the 2nd time we have tried 2 contact u...\n",
       "5568     0              Will Ì_ b going to esplanade fr home?\n",
       "5569     0  Pity, * was in mood for that. So...any other s...\n",
       "5570     0  The guy did some bitching but I acted like i'd...\n",
       "5571     0                         Rofl. Its true to its name\n",
       "\n",
       "[5169 rows x 2 columns]"
      ]
     },
     "execution_count": 14,
     "metadata": {},
     "output_type": "execute_result"
    }
   ],
   "source": [
    "df"
   ]
  },
  {
   "cell_type": "code",
   "execution_count": 15,
   "id": "061d6f07",
   "metadata": {},
   "outputs": [],
   "source": [
    "df['length'] = df['Message'].str.len()"
   ]
  },
  {
   "cell_type": "code",
   "execution_count": 16,
   "id": "04dc4861",
   "metadata": {},
   "outputs": [
    {
     "data": {
      "text/html": [
       "<div>\n",
       "<style scoped>\n",
       "    .dataframe tbody tr th:only-of-type {\n",
       "        vertical-align: middle;\n",
       "    }\n",
       "\n",
       "    .dataframe tbody tr th {\n",
       "        vertical-align: top;\n",
       "    }\n",
       "\n",
       "    .dataframe thead th {\n",
       "        text-align: right;\n",
       "    }\n",
       "</style>\n",
       "<table border=\"1\" class=\"dataframe\">\n",
       "  <thead>\n",
       "    <tr style=\"text-align: right;\">\n",
       "      <th></th>\n",
       "      <th>spam</th>\n",
       "      <th>Message</th>\n",
       "      <th>length</th>\n",
       "    </tr>\n",
       "  </thead>\n",
       "  <tbody>\n",
       "    <tr>\n",
       "      <th>0</th>\n",
       "      <td>0</td>\n",
       "      <td>Go until jurong point, crazy.. Available only ...</td>\n",
       "      <td>111</td>\n",
       "    </tr>\n",
       "    <tr>\n",
       "      <th>1</th>\n",
       "      <td>0</td>\n",
       "      <td>Ok lar... Joking wif u oni...</td>\n",
       "      <td>29</td>\n",
       "    </tr>\n",
       "    <tr>\n",
       "      <th>2</th>\n",
       "      <td>1</td>\n",
       "      <td>Free entry in 2 a wkly comp to win FA Cup fina...</td>\n",
       "      <td>155</td>\n",
       "    </tr>\n",
       "    <tr>\n",
       "      <th>3</th>\n",
       "      <td>0</td>\n",
       "      <td>U dun say so early hor... U c already then say...</td>\n",
       "      <td>49</td>\n",
       "    </tr>\n",
       "    <tr>\n",
       "      <th>4</th>\n",
       "      <td>0</td>\n",
       "      <td>Nah I don't think he goes to usf, he lives aro...</td>\n",
       "      <td>61</td>\n",
       "    </tr>\n",
       "    <tr>\n",
       "      <th>...</th>\n",
       "      <td>...</td>\n",
       "      <td>...</td>\n",
       "      <td>...</td>\n",
       "    </tr>\n",
       "    <tr>\n",
       "      <th>5567</th>\n",
       "      <td>1</td>\n",
       "      <td>This is the 2nd time we have tried 2 contact u...</td>\n",
       "      <td>161</td>\n",
       "    </tr>\n",
       "    <tr>\n",
       "      <th>5568</th>\n",
       "      <td>0</td>\n",
       "      <td>Will Ì_ b going to esplanade fr home?</td>\n",
       "      <td>37</td>\n",
       "    </tr>\n",
       "    <tr>\n",
       "      <th>5569</th>\n",
       "      <td>0</td>\n",
       "      <td>Pity, * was in mood for that. So...any other s...</td>\n",
       "      <td>57</td>\n",
       "    </tr>\n",
       "    <tr>\n",
       "      <th>5570</th>\n",
       "      <td>0</td>\n",
       "      <td>The guy did some bitching but I acted like i'd...</td>\n",
       "      <td>125</td>\n",
       "    </tr>\n",
       "    <tr>\n",
       "      <th>5571</th>\n",
       "      <td>0</td>\n",
       "      <td>Rofl. Its true to its name</td>\n",
       "      <td>26</td>\n",
       "    </tr>\n",
       "  </tbody>\n",
       "</table>\n",
       "<p>5169 rows × 3 columns</p>\n",
       "</div>"
      ],
      "text/plain": [
       "      spam                                            Message  length\n",
       "0        0  Go until jurong point, crazy.. Available only ...     111\n",
       "1        0                      Ok lar... Joking wif u oni...      29\n",
       "2        1  Free entry in 2 a wkly comp to win FA Cup fina...     155\n",
       "3        0  U dun say so early hor... U c already then say...      49\n",
       "4        0  Nah I don't think he goes to usf, he lives aro...      61\n",
       "...    ...                                                ...     ...\n",
       "5567     1  This is the 2nd time we have tried 2 contact u...     161\n",
       "5568     0              Will Ì_ b going to esplanade fr home?      37\n",
       "5569     0  Pity, * was in mood for that. So...any other s...      57\n",
       "5570     0  The guy did some bitching but I acted like i'd...     125\n",
       "5571     0                         Rofl. Its true to its name      26\n",
       "\n",
       "[5169 rows x 3 columns]"
      ]
     },
     "execution_count": 16,
     "metadata": {},
     "output_type": "execute_result"
    }
   ],
   "source": [
    "df"
   ]
  },
  {
   "cell_type": "code",
   "execution_count": 17,
   "id": "0dd3d1cb",
   "metadata": {},
   "outputs": [
    {
     "name": "stderr",
     "output_type": "stream",
     "text": [
      "C:\\ProgramData\\Anaconda3\\lib\\site-packages\\seaborn\\distributions.py:2619: FutureWarning: `distplot` is a deprecated function and will be removed in a future version. Please adapt your code to use either `displot` (a figure-level function with similar flexibility) or `histplot` (an axes-level function for histograms).\n",
      "  warnings.warn(msg, FutureWarning)\n"
     ]
    },
    {
     "data": {
      "text/plain": [
       "<AxesSubplot:xlabel='length', ylabel='Density'>"
      ]
     },
     "execution_count": 17,
     "metadata": {},
     "output_type": "execute_result"
    },
    {
     "data": {
      "image/png": "[encoded data removed]",
      "text/plain": [
       "<Figure size 640x480 with 1 Axes>"
      ]
     },
     "metadata": {},
     "output_type": "display_data"
    }
   ],
   "source": [
    "sns.distplot(df['length'], kde=True)"
   ]
  },
  {
   "cell_type": "code",
   "execution_count": 18,
   "id": "1d8ac49d",
   "metadata": {},
   "outputs": [
    {
     "data": {
      "text/plain": [
       "<AxesSubplot:xlabel='length', ylabel='Count'>"
      ]
     },
     "execution_count": 18,
     "metadata": {},
     "output_type": "execute_result"
    },
    {
     "data": {
      "image/png": "[encoded data removed]",
      "text/plain": [
       "<Figure size 640x480 with 1 Axes>"
      ]
     },
     "metadata": {},
     "output_type": "display_data"
    }
   ],
   "source": [
    "sns.histplot(df['length'], kde = True, color = 'orange')"
   ]
  },
  {
   "cell_type": "code",
   "execution_count": 19,
   "id": "9c711279",
   "metadata": {},
   "outputs": [
    {
     "data": {
      "text/plain": [
       "array([[<AxesSubplot:title={'center':'length'}>]], dtype=object)"
      ]
     },
     "execution_count": 19,
     "metadata": {},
     "output_type": "execute_result"
    },
    {
     "data": {
      "image/png": "[encoded data removed]",
      "text/plain": [
       "<Figure size 640x480 with 1 Axes>"
      ]
     },
     "metadata": {},
     "output_type": "display_data"
    }
   ],
   "source": [
    "df.hist(column = 'length', bins=50)"
   ]
  },
  {
   "cell_type": "code",
   "execution_count": 20,
   "id": "629b0cfb",
   "metadata": {},
   "outputs": [
    {
     "data": {
      "text/plain": [
       "array([<AxesSubplot:title={'center':'0'}>,\n",
       "       <AxesSubplot:title={'center':'1'}>], dtype=object)"
      ]
     },
     "execution_count": 20,
     "metadata": {},
     "output_type": "execute_result"
    },
    {
     "data": {
      "image/png": "[encoded data removed]",
      "text/plain": [
       "<Figure size 640x480 with 2 Axes>"
      ]
     },
     "metadata": {},
     "output_type": "display_data"
    }
   ],
   "source": [
    "df.hist(column = 'length', bins=50, by='spam')"
   ]
  },
  {
   "cell_type": "code",
   "execution_count": 21,
   "id": "3a981fb9",
   "metadata": {},
   "outputs": [
    {
     "data": {
      "text/html": [
       "<div>\n",
       "<style scoped>\n",
       "    .dataframe tbody tr th:only-of-type {\n",
       "        vertical-align: middle;\n",
       "    }\n",
       "\n",
       "    .dataframe tbody tr th {\n",
       "        vertical-align: top;\n",
       "    }\n",
       "\n",
       "    .dataframe thead th {\n",
       "        text-align: right;\n",
       "    }\n",
       "</style>\n",
       "<table border=\"1\" class=\"dataframe\">\n",
       "  <thead>\n",
       "    <tr style=\"text-align: right;\">\n",
       "      <th></th>\n",
       "      <th>spam</th>\n",
       "      <th>Message</th>\n",
       "      <th>length</th>\n",
       "    </tr>\n",
       "  </thead>\n",
       "  <tbody>\n",
       "    <tr>\n",
       "      <th>0</th>\n",
       "      <td>0</td>\n",
       "      <td>Go until jurong point, crazy.. Available only ...</td>\n",
       "      <td>111</td>\n",
       "    </tr>\n",
       "    <tr>\n",
       "      <th>1</th>\n",
       "      <td>0</td>\n",
       "      <td>Ok lar... Joking wif u oni...</td>\n",
       "      <td>29</td>\n",
       "    </tr>\n",
       "    <tr>\n",
       "      <th>2</th>\n",
       "      <td>1</td>\n",
       "      <td>Free entry in 2 a wkly comp to win FA Cup fina...</td>\n",
       "      <td>155</td>\n",
       "    </tr>\n",
       "    <tr>\n",
       "      <th>3</th>\n",
       "      <td>0</td>\n",
       "      <td>U dun say so early hor... U c already then say...</td>\n",
       "      <td>49</td>\n",
       "    </tr>\n",
       "    <tr>\n",
       "      <th>4</th>\n",
       "      <td>0</td>\n",
       "      <td>Nah I don't think he goes to usf, he lives aro...</td>\n",
       "      <td>61</td>\n",
       "    </tr>\n",
       "    <tr>\n",
       "      <th>...</th>\n",
       "      <td>...</td>\n",
       "      <td>...</td>\n",
       "      <td>...</td>\n",
       "    </tr>\n",
       "    <tr>\n",
       "      <th>5567</th>\n",
       "      <td>1</td>\n",
       "      <td>This is the 2nd time we have tried 2 contact u...</td>\n",
       "      <td>161</td>\n",
       "    </tr>\n",
       "    <tr>\n",
       "      <th>5568</th>\n",
       "      <td>0</td>\n",
       "      <td>Will Ì_ b going to esplanade fr home?</td>\n",
       "      <td>37</td>\n",
       "    </tr>\n",
       "    <tr>\n",
       "      <th>5569</th>\n",
       "      <td>0</td>\n",
       "      <td>Pity, * was in mood for that. So...any other s...</td>\n",
       "      <td>57</td>\n",
       "    </tr>\n",
       "    <tr>\n",
       "      <th>5570</th>\n",
       "      <td>0</td>\n",
       "      <td>The guy did some bitching but I acted like i'd...</td>\n",
       "      <td>125</td>\n",
       "    </tr>\n",
       "    <tr>\n",
       "      <th>5571</th>\n",
       "      <td>0</td>\n",
       "      <td>Rofl. Its true to its name</td>\n",
       "      <td>26</td>\n",
       "    </tr>\n",
       "  </tbody>\n",
       "</table>\n",
       "<p>5169 rows × 3 columns</p>\n",
       "</div>"
      ],
      "text/plain": [
       "      spam                                            Message  length\n",
       "0        0  Go until jurong point, crazy.. Available only ...     111\n",
       "1        0                      Ok lar... Joking wif u oni...      29\n",
       "2        1  Free entry in 2 a wkly comp to win FA Cup fina...     155\n",
       "3        0  U dun say so early hor... U c already then say...      49\n",
       "4        0  Nah I don't think he goes to usf, he lives aro...      61\n",
       "...    ...                                                ...     ...\n",
       "5567     1  This is the 2nd time we have tried 2 contact u...     161\n",
       "5568     0              Will Ì_ b going to esplanade fr home?      37\n",
       "5569     0  Pity, * was in mood for that. So...any other s...      57\n",
       "5570     0  The guy did some bitching but I acted like i'd...     125\n",
       "5571     0                         Rofl. Its true to its name      26\n",
       "\n",
       "[5169 rows x 3 columns]"
      ]
     },
     "execution_count": 21,
     "metadata": {},
     "output_type": "execute_result"
    }
   ],
   "source": [
    "df"
   ]
  },
  {
   "cell_type": "code",
   "execution_count": 22,
   "id": "b7a3998a",
   "metadata": {},
   "outputs": [],
   "source": [
    "df['word_count'] = df['Message'].apply(lambda x : len(x.split()))"
   ]
  },
  {
   "cell_type": "code",
   "execution_count": 23,
   "id": "f2b61c7d",
   "metadata": {},
   "outputs": [
    {
     "data": {
      "text/html": [
       "<div>\n",
       "<style scoped>\n",
       "    .dataframe tbody tr th:only-of-type {\n",
       "        vertical-align: middle;\n",
       "    }\n",
       "\n",
       "    .dataframe tbody tr th {\n",
       "        vertical-align: top;\n",
       "    }\n",
       "\n",
       "    .dataframe thead th {\n",
       "        text-align: right;\n",
       "    }\n",
       "</style>\n",
       "<table border=\"1\" class=\"dataframe\">\n",
       "  <thead>\n",
       "    <tr style=\"text-align: right;\">\n",
       "      <th></th>\n",
       "      <th>spam</th>\n",
       "      <th>Message</th>\n",
       "      <th>length</th>\n",
       "      <th>word_count</th>\n",
       "    </tr>\n",
       "  </thead>\n",
       "  <tbody>\n",
       "    <tr>\n",
       "      <th>0</th>\n",
       "      <td>0</td>\n",
       "      <td>Go until jurong point, crazy.. Available only ...</td>\n",
       "      <td>111</td>\n",
       "      <td>20</td>\n",
       "    </tr>\n",
       "    <tr>\n",
       "      <th>1</th>\n",
       "      <td>0</td>\n",
       "      <td>Ok lar... Joking wif u oni...</td>\n",
       "      <td>29</td>\n",
       "      <td>6</td>\n",
       "    </tr>\n",
       "    <tr>\n",
       "      <th>2</th>\n",
       "      <td>1</td>\n",
       "      <td>Free entry in 2 a wkly comp to win FA Cup fina...</td>\n",
       "      <td>155</td>\n",
       "      <td>28</td>\n",
       "    </tr>\n",
       "    <tr>\n",
       "      <th>3</th>\n",
       "      <td>0</td>\n",
       "      <td>U dun say so early hor... U c already then say...</td>\n",
       "      <td>49</td>\n",
       "      <td>11</td>\n",
       "    </tr>\n",
       "    <tr>\n",
       "      <th>4</th>\n",
       "      <td>0</td>\n",
       "      <td>Nah I don't think he goes to usf, he lives aro...</td>\n",
       "      <td>61</td>\n",
       "      <td>13</td>\n",
       "    </tr>\n",
       "    <tr>\n",
       "      <th>...</th>\n",
       "      <td>...</td>\n",
       "      <td>...</td>\n",
       "      <td>...</td>\n",
       "      <td>...</td>\n",
       "    </tr>\n",
       "    <tr>\n",
       "      <th>5567</th>\n",
       "      <td>1</td>\n",
       "      <td>This is the 2nd time we have tried 2 contact u...</td>\n",
       "      <td>161</td>\n",
       "      <td>30</td>\n",
       "    </tr>\n",
       "    <tr>\n",
       "      <th>5568</th>\n",
       "      <td>0</td>\n",
       "      <td>Will Ì_ b going to esplanade fr home?</td>\n",
       "      <td>37</td>\n",
       "      <td>8</td>\n",
       "    </tr>\n",
       "    <tr>\n",
       "      <th>5569</th>\n",
       "      <td>0</td>\n",
       "      <td>Pity, * was in mood for that. So...any other s...</td>\n",
       "      <td>57</td>\n",
       "      <td>10</td>\n",
       "    </tr>\n",
       "    <tr>\n",
       "      <th>5570</th>\n",
       "      <td>0</td>\n",
       "      <td>The guy did some bitching but I acted like i'd...</td>\n",
       "      <td>125</td>\n",
       "      <td>26</td>\n",
       "    </tr>\n",
       "    <tr>\n",
       "      <th>5571</th>\n",
       "      <td>0</td>\n",
       "      <td>Rofl. Its true to its name</td>\n",
       "      <td>26</td>\n",
       "      <td>6</td>\n",
       "    </tr>\n",
       "  </tbody>\n",
       "</table>\n",
       "<p>5169 rows × 4 columns</p>\n",
       "</div>"
      ],
      "text/plain": [
       "      spam                                            Message  length  \\\n",
       "0        0  Go until jurong point, crazy.. Available only ...     111   \n",
       "1        0                      Ok lar... Joking wif u oni...      29   \n",
       "2        1  Free entry in 2 a wkly comp to win FA Cup fina...     155   \n",
       "3        0  U dun say so early hor... U c already then say...      49   \n",
       "4        0  Nah I don't think he goes to usf, he lives aro...      61   \n",
       "...    ...                                                ...     ...   \n",
       "5567     1  This is the 2nd time we have tried 2 contact u...     161   \n",
       "5568     0              Will Ì_ b going to esplanade fr home?      37   \n",
       "5569     0  Pity, * was in mood for that. So...any other s...      57   \n",
       "5570     0  The guy did some bitching but I acted like i'd...     125   \n",
       "5571     0                         Rofl. Its true to its name      26   \n",
       "\n",
       "      word_count  \n",
       "0             20  \n",
       "1              6  \n",
       "2             28  \n",
       "3             11  \n",
       "4             13  \n",
       "...          ...  \n",
       "5567          30  \n",
       "5568           8  \n",
       "5569          10  \n",
       "5570          26  \n",
       "5571           6  \n",
       "\n",
       "[5169 rows x 4 columns]"
      ]
     },
     "execution_count": 23,
     "metadata": {},
     "output_type": "execute_result"
    }
   ],
   "source": [
    "df"
   ]
  },
  {
   "cell_type": "code",
   "execution_count": 24,
   "id": "84b2d0f9",
   "metadata": {},
   "outputs": [
    {
     "data": {
      "text/plain": [
       "26"
      ]
     },
     "execution_count": 24,
     "metadata": {},
     "output_type": "execute_result"
    }
   ],
   "source": [
    "len(\"As per your request 'Melle Melle (Oru Minnaminunginte Nurungu Vettam)' has been set as your callertune for all Callers. Press *9 to copy your friends Callertune\".split())"
   ]
  },
  {
   "cell_type": "code",
   "execution_count": 25,
   "id": "fbad115e",
   "metadata": {},
   "outputs": [
    {
     "data": {
      "text/plain": [
       "array([<AxesSubplot:title={'center':'0'}>,\n",
       "       <AxesSubplot:title={'center':'1'}>], dtype=object)"
      ]
     },
     "execution_count": 25,
     "metadata": {},
     "output_type": "execute_result"
    },
    {
     "data": {
      "image/png": "[encoded data removed]",
      "text/plain": [
       "<Figure size 640x480 with 2 Axes>"
      ]
     },
     "metadata": {},
     "output_type": "display_data"
    }
   ],
   "source": [
    "df.hist(column = 'word_count', bins=50, by='spam')"
   ]
  },
  {
   "cell_type": "code",
   "execution_count": 26,
   "id": "ebb6cb96",
   "metadata": {},
   "outputs": [
    {
     "data": {
      "text/plain": [
       "count    653.000000\n",
       "mean      23.681470\n",
       "std        5.967672\n",
       "min        2.000000\n",
       "25%       22.000000\n",
       "50%       25.000000\n",
       "75%       28.000000\n",
       "max       35.000000\n",
       "Name: word_count, dtype: float64"
      ]
     },
     "execution_count": 26,
     "metadata": {},
     "output_type": "execute_result"
    }
   ],
   "source": [
    "df[df['spam']==1]['word_count'].describe()"
   ]
  },
  {
   "cell_type": "code",
   "execution_count": 27,
   "id": "14d83c8a",
   "metadata": {},
   "outputs": [
    {
     "data": {
      "text/plain": [
       "\"Just forced myself to eat a slice. I'm really not hungry tho. This sucks. Mark is getting worried. He knows I'm sick when I turn down pizza. Lol\""
      ]
     },
     "execution_count": 27,
     "metadata": {},
     "output_type": "execute_result"
    }
   ],
   "source": [
    "df.iloc[25,1]"
   ]
  },
  {
   "cell_type": "code",
   "execution_count": 28,
   "id": "dcd63ce8",
   "metadata": {},
   "outputs": [
    {
     "data": {
      "text/plain": [
       "'XXXMobileMovieClub: To use your credit, click the WAP link in the next txt message or click here>> http://wap. xxxmobilemovieclub.com?n=QJKGIGHJJGCBL'"
      ]
     },
     "execution_count": 28,
     "metadata": {},
     "output_type": "execute_result"
    }
   ],
   "source": [
    "df.iloc[15,1]"
   ]
  },
  {
   "cell_type": "code",
   "execution_count": 29,
   "id": "22d45fc4",
   "metadata": {},
   "outputs": [
    {
     "data": {
      "text/plain": [
       "'No calls..messages..missed calls'"
      ]
     },
     "execution_count": 29,
     "metadata": {},
     "output_type": "execute_result"
    }
   ],
   "source": [
    "df.iloc[45,1]"
   ]
  },
  {
   "cell_type": "code",
   "execution_count": 30,
   "id": "3cab5600",
   "metadata": {},
   "outputs": [
    {
     "data": {
      "text/plain": [
       "'Smile in Pleasure Smile in Pain Smile when trouble pours like Rain Smile when sum1 Hurts U Smile becoz SOMEONE still Loves to see u Smiling!!'"
      ]
     },
     "execution_count": 30,
     "metadata": {},
     "output_type": "execute_result"
    }
   ],
   "source": [
    "df.iloc[92,1]"
   ]
  },
  {
   "cell_type": "markdown",
   "id": "12826a98",
   "metadata": {},
   "source": [
    "#### NORMALIZE"
   ]
  },
  {
   "cell_type": "markdown",
   "id": "43a7cc1d",
   "metadata": {},
   "source": [
    "##### by removing the stop words"
   ]
  },
  {
   "cell_type": "code",
   "execution_count": 31,
   "id": "4085e55d",
   "metadata": {},
   "outputs": [],
   "source": [
    "df['Message'] = df['Message'].str.lower()"
   ]
  },
  {
   "cell_type": "code",
   "execution_count": 32,
   "id": "8a5fefa5",
   "metadata": {},
   "outputs": [
    {
     "data": {
      "text/plain": [
       "'Smile in Pleasure Smile in Pain Smile when trouble pours like Rain Smile when sum1 Hurts U Smile becoz SOMEONE still Loves to see u Smiling!!'"
      ]
     },
     "execution_count": 32,
     "metadata": {},
     "output_type": "execute_result"
    }
   ],
   "source": [
    "'Smile in Pleasure Smile in Pain Smile when trouble pours like Rain Smile when sum1 Hurts U Smile becoz SOMEONE still Loves to see u Smiling!!'"
   ]
  },
  {
   "cell_type": "code",
   "execution_count": 33,
   "id": "0f01daee",
   "metadata": {},
   "outputs": [],
   "source": [
    "import re"
   ]
  },
  {
   "cell_type": "code",
   "execution_count": 34,
   "id": "416236c1",
   "metadata": {},
   "outputs": [],
   "source": [
    "s = 'Smile in Pleasure Smile in Pain Smile when trouble pours like Rain Smile when sum1 Hurts U Smile becoz SOMEONE still Loves to see u Smiling!!'.lower()"
   ]
  },
  {
   "cell_type": "code",
   "execution_count": 35,
   "id": "ab4bd46c",
   "metadata": {},
   "outputs": [
    {
     "data": {
      "text/plain": [
       "'smile in pleasure smile in pain smile when trouble pours like rain smile when sum1 hurts u smile becoz someone still loves to see u smiling!!'"
      ]
     },
     "execution_count": 35,
     "metadata": {},
     "output_type": "execute_result"
    }
   ],
   "source": [
    "s"
   ]
  },
  {
   "cell_type": "code",
   "execution_count": 36,
   "id": "06f47eab",
   "metadata": {},
   "outputs": [
    {
     "data": {
      "text/plain": [
       "'smile in pleasure smile in pain smile when trouble pours like rain smile when sum1 hurts u smile becoz someone still loves to see u smiling'"
      ]
     },
     "execution_count": 36,
     "metadata": {},
     "output_type": "execute_result"
    }
   ],
   "source": [
    "re.sub(\"[^a-z0-9\\s]\", \"\",s)"
   ]
  },
  {
   "cell_type": "code",
   "execution_count": 37,
   "id": "e7f362d0",
   "metadata": {},
   "outputs": [],
   "source": [
    "df['Message'] = df['Message'].apply(lambda x : re.sub(\"[^a-z0-9\\s]\", \"\",x))"
   ]
  },
  {
   "cell_type": "code",
   "execution_count": 38,
   "id": "ea1ad68b",
   "metadata": {},
   "outputs": [
    {
     "data": {
      "text/plain": [
       "0       go until jurong point crazy available only in ...\n",
       "1                                 ok lar joking wif u oni\n",
       "2       free entry in 2 a wkly comp to win fa cup fina...\n",
       "3             u dun say so early hor u c already then say\n",
       "4       nah i dont think he goes to usf he lives aroun...\n",
       "                              ...                        \n",
       "5567    this is the 2nd time we have tried 2 contact u...\n",
       "5568                   will  b going to esplanade fr home\n",
       "5569    pity  was in mood for that soany other suggest...\n",
       "5570    the guy did some bitching but i acted like id ...\n",
       "5571                            rofl its true to its name\n",
       "Name: Message, Length: 5169, dtype: object"
      ]
     },
     "execution_count": 38,
     "metadata": {},
     "output_type": "execute_result"
    }
   ],
   "source": [
    "df['Message']"
   ]
  },
  {
   "cell_type": "code",
   "execution_count": 39,
   "id": "26ea29a2",
   "metadata": {},
   "outputs": [],
   "source": [
    "spam = ('XXXMobileMovieClub: To use your credit, click the WAP link in the next txt message or click here>> http://wap. xxxmobilemovieclub.com?n=QJKGIGHJJGCBL').lower()"
   ]
  },
  {
   "cell_type": "code",
   "execution_count": 40,
   "id": "b895701a",
   "metadata": {},
   "outputs": [
    {
     "data": {
      "text/plain": [
       "'xxxmobilemovieclub to use your credit click the wap link in the next txt message or click here httpwap xxxmobilemovieclubcomnqjkgighjjgcbl'"
      ]
     },
     "execution_count": 40,
     "metadata": {},
     "output_type": "execute_result"
    }
   ],
   "source": [
    "re.sub(\"[^a-z0-9\\s]\", \"\", spam)"
   ]
  },
  {
   "cell_type": "code",
   "execution_count": 41,
   "id": "e4d46c9a",
   "metadata": {},
   "outputs": [],
   "source": [
    "import nltk"
   ]
  },
  {
   "cell_type": "code",
   "execution_count": 42,
   "id": "573a9804",
   "metadata": {},
   "outputs": [],
   "source": [
    "from nltk.corpus import stopwords"
   ]
  },
  {
   "cell_type": "code",
   "execution_count": 43,
   "id": "937e3934",
   "metadata": {},
   "outputs": [
    {
     "name": "stderr",
     "output_type": "stream",
     "text": [
      "[nltk_data] Downloading package stopwords to\n",
      "[nltk_data]     C:\\Users\\snigd\\AppData\\Roaming\\nltk_data...\n",
      "[nltk_data]   Package stopwords is already up-to-date!\n"
     ]
    },
    {
     "data": {
      "text/plain": [
       "True"
      ]
     },
     "execution_count": 43,
     "metadata": {},
     "output_type": "execute_result"
    }
   ],
   "source": [
    "nltk.download('stopwords')"
   ]
  },
  {
   "cell_type": "code",
   "execution_count": 44,
   "id": "ae57d68b",
   "metadata": {},
   "outputs": [],
   "source": [
    "sw = stopwords.words('english')"
   ]
  },
  {
   "cell_type": "code",
   "execution_count": 45,
   "id": "5d20fa99",
   "metadata": {},
   "outputs": [],
   "source": [
    "s = 'this is the 2nd time we have tried 2 contact u'"
   ]
  },
  {
   "cell_type": "code",
   "execution_count": 46,
   "id": "45110963",
   "metadata": {},
   "outputs": [],
   "source": [
    "s_new = ' '"
   ]
  },
  {
   "cell_type": "code",
   "execution_count": 47,
   "id": "09bcdb6f",
   "metadata": {},
   "outputs": [],
   "source": [
    "for i in s.split():\n",
    "    if i not in sw:\n",
    "        s_new += i + ' '"
   ]
  },
  {
   "cell_type": "code",
   "execution_count": 48,
   "id": "487bd79c",
   "metadata": {},
   "outputs": [
    {
     "data": {
      "text/plain": [
       "' 2nd time tried 2 contact u '"
      ]
     },
     "execution_count": 48,
     "metadata": {},
     "output_type": "execute_result"
    }
   ],
   "source": [
    "s_new"
   ]
  },
  {
   "cell_type": "code",
   "execution_count": 49,
   "id": "8febdb3a",
   "metadata": {},
   "outputs": [
    {
     "data": {
      "text/plain": [
       "'2nd time tried 2 contact u'"
      ]
     },
     "execution_count": 49,
     "metadata": {},
     "output_type": "execute_result"
    }
   ],
   "source": [
    "' '.join([i for i in s.split() if i not in sw])"
   ]
  },
  {
   "cell_type": "code",
   "execution_count": 50,
   "id": "5028875d",
   "metadata": {},
   "outputs": [],
   "source": [
    "df['Message'] = df['Message'].apply(lambda x : ' '.join([i for i in x.split() if i not in sw]))"
   ]
  },
  {
   "cell_type": "code",
   "execution_count": 51,
   "id": "271cf539",
   "metadata": {},
   "outputs": [],
   "source": [
    "df.reset_index(inplace=True, drop=True)"
   ]
  },
  {
   "cell_type": "code",
   "execution_count": 52,
   "id": "cf1fe12e",
   "metadata": {},
   "outputs": [
    {
     "data": {
      "text/html": [
       "<div>\n",
       "<style scoped>\n",
       "    .dataframe tbody tr th:only-of-type {\n",
       "        vertical-align: middle;\n",
       "    }\n",
       "\n",
       "    .dataframe tbody tr th {\n",
       "        vertical-align: top;\n",
       "    }\n",
       "\n",
       "    .dataframe thead th {\n",
       "        text-align: right;\n",
       "    }\n",
       "</style>\n",
       "<table border=\"1\" class=\"dataframe\">\n",
       "  <thead>\n",
       "    <tr style=\"text-align: right;\">\n",
       "      <th></th>\n",
       "      <th>spam</th>\n",
       "      <th>Message</th>\n",
       "      <th>length</th>\n",
       "      <th>word_count</th>\n",
       "    </tr>\n",
       "  </thead>\n",
       "  <tbody>\n",
       "    <tr>\n",
       "      <th>0</th>\n",
       "      <td>0</td>\n",
       "      <td>go jurong point crazy available bugis n great ...</td>\n",
       "      <td>111</td>\n",
       "      <td>20</td>\n",
       "    </tr>\n",
       "    <tr>\n",
       "      <th>1</th>\n",
       "      <td>0</td>\n",
       "      <td>ok lar joking wif u oni</td>\n",
       "      <td>29</td>\n",
       "      <td>6</td>\n",
       "    </tr>\n",
       "    <tr>\n",
       "      <th>2</th>\n",
       "      <td>1</td>\n",
       "      <td>free entry 2 wkly comp win fa cup final tkts 2...</td>\n",
       "      <td>155</td>\n",
       "      <td>28</td>\n",
       "    </tr>\n",
       "    <tr>\n",
       "      <th>3</th>\n",
       "      <td>0</td>\n",
       "      <td>u dun say early hor u c already say</td>\n",
       "      <td>49</td>\n",
       "      <td>11</td>\n",
       "    </tr>\n",
       "    <tr>\n",
       "      <th>4</th>\n",
       "      <td>0</td>\n",
       "      <td>nah dont think goes usf lives around though</td>\n",
       "      <td>61</td>\n",
       "      <td>13</td>\n",
       "    </tr>\n",
       "    <tr>\n",
       "      <th>...</th>\n",
       "      <td>...</td>\n",
       "      <td>...</td>\n",
       "      <td>...</td>\n",
       "      <td>...</td>\n",
       "    </tr>\n",
       "    <tr>\n",
       "      <th>5164</th>\n",
       "      <td>1</td>\n",
       "      <td>2nd time tried 2 contact u u 750 pound prize 2...</td>\n",
       "      <td>161</td>\n",
       "      <td>30</td>\n",
       "    </tr>\n",
       "    <tr>\n",
       "      <th>5165</th>\n",
       "      <td>0</td>\n",
       "      <td>b going esplanade fr home</td>\n",
       "      <td>37</td>\n",
       "      <td>8</td>\n",
       "    </tr>\n",
       "    <tr>\n",
       "      <th>5166</th>\n",
       "      <td>0</td>\n",
       "      <td>pity mood soany suggestions</td>\n",
       "      <td>57</td>\n",
       "      <td>10</td>\n",
       "    </tr>\n",
       "    <tr>\n",
       "      <th>5167</th>\n",
       "      <td>0</td>\n",
       "      <td>guy bitching acted like id interested buying s...</td>\n",
       "      <td>125</td>\n",
       "      <td>26</td>\n",
       "    </tr>\n",
       "    <tr>\n",
       "      <th>5168</th>\n",
       "      <td>0</td>\n",
       "      <td>rofl true name</td>\n",
       "      <td>26</td>\n",
       "      <td>6</td>\n",
       "    </tr>\n",
       "  </tbody>\n",
       "</table>\n",
       "<p>5169 rows × 4 columns</p>\n",
       "</div>"
      ],
      "text/plain": [
       "      spam                                            Message  length  \\\n",
       "0        0  go jurong point crazy available bugis n great ...     111   \n",
       "1        0                            ok lar joking wif u oni      29   \n",
       "2        1  free entry 2 wkly comp win fa cup final tkts 2...     155   \n",
       "3        0                u dun say early hor u c already say      49   \n",
       "4        0        nah dont think goes usf lives around though      61   \n",
       "...    ...                                                ...     ...   \n",
       "5164     1  2nd time tried 2 contact u u 750 pound prize 2...     161   \n",
       "5165     0                          b going esplanade fr home      37   \n",
       "5166     0                        pity mood soany suggestions      57   \n",
       "5167     0  guy bitching acted like id interested buying s...     125   \n",
       "5168     0                                     rofl true name      26   \n",
       "\n",
       "      word_count  \n",
       "0             20  \n",
       "1              6  \n",
       "2             28  \n",
       "3             11  \n",
       "4             13  \n",
       "...          ...  \n",
       "5164          30  \n",
       "5165           8  \n",
       "5166          10  \n",
       "5167          26  \n",
       "5168           6  \n",
       "\n",
       "[5169 rows x 4 columns]"
      ]
     },
     "execution_count": 52,
     "metadata": {},
     "output_type": "execute_result"
    }
   ],
   "source": [
    "df"
   ]
  },
  {
   "cell_type": "code",
   "execution_count": 53,
   "id": "0e21c3d2",
   "metadata": {},
   "outputs": [
    {
     "data": {
      "text/plain": [
       "'2nd time tried 2 contact u u 750 pound prize 2 claim easy call 087187272008 now1 10p per minute btnationalrate'"
      ]
     },
     "execution_count": 53,
     "metadata": {},
     "output_type": "execute_result"
    }
   ],
   "source": [
    "df.iloc[5164,1]"
   ]
  },
  {
   "cell_type": "code",
   "execution_count": 54,
   "id": "e2a01894",
   "metadata": {},
   "outputs": [
    {
     "data": {
      "text/html": [
       "<div>\n",
       "<style scoped>\n",
       "    .dataframe tbody tr th:only-of-type {\n",
       "        vertical-align: middle;\n",
       "    }\n",
       "\n",
       "    .dataframe tbody tr th {\n",
       "        vertical-align: top;\n",
       "    }\n",
       "\n",
       "    .dataframe thead th {\n",
       "        text-align: right;\n",
       "    }\n",
       "</style>\n",
       "<table border=\"1\" class=\"dataframe\">\n",
       "  <thead>\n",
       "    <tr style=\"text-align: right;\">\n",
       "      <th></th>\n",
       "      <th>spam</th>\n",
       "      <th>Message</th>\n",
       "      <th>length</th>\n",
       "      <th>word_count</th>\n",
       "    </tr>\n",
       "  </thead>\n",
       "  <tbody>\n",
       "    <tr>\n",
       "      <th>0</th>\n",
       "      <td>0</td>\n",
       "      <td>go jurong point crazy available bugis n great ...</td>\n",
       "      <td>111</td>\n",
       "      <td>20</td>\n",
       "    </tr>\n",
       "    <tr>\n",
       "      <th>1</th>\n",
       "      <td>0</td>\n",
       "      <td>ok lar joking wif u oni</td>\n",
       "      <td>29</td>\n",
       "      <td>6</td>\n",
       "    </tr>\n",
       "    <tr>\n",
       "      <th>2</th>\n",
       "      <td>1</td>\n",
       "      <td>free entry 2 wkly comp win fa cup final tkts 2...</td>\n",
       "      <td>155</td>\n",
       "      <td>28</td>\n",
       "    </tr>\n",
       "    <tr>\n",
       "      <th>3</th>\n",
       "      <td>0</td>\n",
       "      <td>u dun say early hor u c already say</td>\n",
       "      <td>49</td>\n",
       "      <td>11</td>\n",
       "    </tr>\n",
       "    <tr>\n",
       "      <th>4</th>\n",
       "      <td>0</td>\n",
       "      <td>nah dont think goes usf lives around though</td>\n",
       "      <td>61</td>\n",
       "      <td>13</td>\n",
       "    </tr>\n",
       "    <tr>\n",
       "      <th>...</th>\n",
       "      <td>...</td>\n",
       "      <td>...</td>\n",
       "      <td>...</td>\n",
       "      <td>...</td>\n",
       "    </tr>\n",
       "    <tr>\n",
       "      <th>5164</th>\n",
       "      <td>1</td>\n",
       "      <td>2nd time tried 2 contact u u 750 pound prize 2...</td>\n",
       "      <td>161</td>\n",
       "      <td>30</td>\n",
       "    </tr>\n",
       "    <tr>\n",
       "      <th>5165</th>\n",
       "      <td>0</td>\n",
       "      <td>b going esplanade fr home</td>\n",
       "      <td>37</td>\n",
       "      <td>8</td>\n",
       "    </tr>\n",
       "    <tr>\n",
       "      <th>5166</th>\n",
       "      <td>0</td>\n",
       "      <td>pity mood soany suggestions</td>\n",
       "      <td>57</td>\n",
       "      <td>10</td>\n",
       "    </tr>\n",
       "    <tr>\n",
       "      <th>5167</th>\n",
       "      <td>0</td>\n",
       "      <td>guy bitching acted like id interested buying s...</td>\n",
       "      <td>125</td>\n",
       "      <td>26</td>\n",
       "    </tr>\n",
       "    <tr>\n",
       "      <th>5168</th>\n",
       "      <td>0</td>\n",
       "      <td>rofl true name</td>\n",
       "      <td>26</td>\n",
       "      <td>6</td>\n",
       "    </tr>\n",
       "  </tbody>\n",
       "</table>\n",
       "<p>5169 rows × 4 columns</p>\n",
       "</div>"
      ],
      "text/plain": [
       "      spam                                            Message  length  \\\n",
       "0        0  go jurong point crazy available bugis n great ...     111   \n",
       "1        0                            ok lar joking wif u oni      29   \n",
       "2        1  free entry 2 wkly comp win fa cup final tkts 2...     155   \n",
       "3        0                u dun say early hor u c already say      49   \n",
       "4        0        nah dont think goes usf lives around though      61   \n",
       "...    ...                                                ...     ...   \n",
       "5164     1  2nd time tried 2 contact u u 750 pound prize 2...     161   \n",
       "5165     0                          b going esplanade fr home      37   \n",
       "5166     0                        pity mood soany suggestions      57   \n",
       "5167     0  guy bitching acted like id interested buying s...     125   \n",
       "5168     0                                     rofl true name      26   \n",
       "\n",
       "      word_count  \n",
       "0             20  \n",
       "1              6  \n",
       "2             28  \n",
       "3             11  \n",
       "4             13  \n",
       "...          ...  \n",
       "5164          30  \n",
       "5165           8  \n",
       "5166          10  \n",
       "5167          26  \n",
       "5168           6  \n",
       "\n",
       "[5169 rows x 4 columns]"
      ]
     },
     "execution_count": 54,
     "metadata": {},
     "output_type": "execute_result"
    }
   ],
   "source": [
    "df"
   ]
  },
  {
   "cell_type": "code",
   "execution_count": 55,
   "id": "8871942f",
   "metadata": {},
   "outputs": [
    {
     "data": {
      "text/plain": [
       "spam                                                          0\n",
       "Message       fuck babe miss already know cant let send mone...\n",
       "length                                                      146\n",
       "word_count                                                   34\n",
       "Name: 555, dtype: object"
      ]
     },
     "execution_count": 55,
     "metadata": {},
     "output_type": "execute_result"
    }
   ],
   "source": [
    "df.iloc[555]"
   ]
  },
  {
   "attachments": {
    "image.png": {
     "image/png": "[encoded data removed]"
    }
   },
   "cell_type": "markdown",
   "id": "268b2d5b",
   "metadata": {},
   "source": [
    "![image.png](attachment:image.png)"
   ]
  },
  {
   "cell_type": "markdown",
   "id": "d71321a5",
   "metadata": {},
   "source": [
    "#### frequency of each word\n",
    "\n",
    "- least frequently used word to be measured\n",
    "- detect the most repeated word"
   ]
  },
  {
   "cell_type": "markdown",
   "id": "4f45d413",
   "metadata": {},
   "source": [
    "#### Term Frequency\n",
    "\n",
    "- sale, lottery, free : eg"
   ]
  },
  {
   "cell_type": "markdown",
   "id": "2609f51f",
   "metadata": {},
   "source": [
    "- I want to go home and sleep\n",
    "- I want to stay awake because the lecture is intersting"
   ]
  },
  {
   "cell_type": "markdown",
   "id": "78c9f203",
   "metadata": {},
   "source": [
    "###### 1) Splitting"
   ]
  },
  {
   "cell_type": "code",
   "execution_count": 56,
   "id": "fbd3816f",
   "metadata": {},
   "outputs": [],
   "source": [
    "Master_word_list = ' '.join(df['Message']).split()"
   ]
  },
  {
   "cell_type": "code",
   "execution_count": 57,
   "id": "3bbe1404",
   "metadata": {},
   "outputs": [],
   "source": [
    "unique_word_count = {}"
   ]
  },
  {
   "cell_type": "code",
   "execution_count": 58,
   "id": "43cf1a6e",
   "metadata": {},
   "outputs": [],
   "source": [
    "for i in set(Master_word_list):\n",
    "    unique_word_count[i] = Master_word_list.count(i)"
   ]
  },
  {
   "cell_type": "code",
   "execution_count": 59,
   "id": "87437394",
   "metadata": {},
   "outputs": [
    {
     "data": {
      "text/plain": [
       "{'poly': 15,\n",
       " 'claypot': 1,\n",
       " 'fakemy': 1,\n",
       " 'laundry': 2,\n",
       " 'hogli': 1,\n",
       " 'stoptxt': 1,\n",
       " 'kkwhy': 1,\n",
       " 'kafter': 1,\n",
       " '10am7pm': 4,\n",
       " '146tf150p': 1,\n",
       " 'urgentlyits': 1,\n",
       " 'digits': 1,\n",
       " 'latr': 2,\n",
       " 'supply': 2,\n",
       " 'com': 1,\n",
       " 'denying': 1,\n",
       " 'randomly': 3,\n",
       " 'hail': 1,\n",
       " 'print': 2,\n",
       " 'e14': 1,\n",
       " 'kinda': 9,\n",
       " 'year': 45,\n",
       " '131004': 1,\n",
       " 'im': 456,\n",
       " 'announcement': 5,\n",
       " 'install': 1,\n",
       " 'eg23g': 1,\n",
       " 'snap': 1,\n",
       " 'heap': 1,\n",
       " 'wings': 1,\n",
       " 'burns': 2,\n",
       " 'kim': 1,\n",
       " 'dudette': 1,\n",
       " 'gent': 2,\n",
       " '10ppm': 2,\n",
       " 'forum': 2,\n",
       " 'nuther': 2,\n",
       " '08712317606': 2,\n",
       " 'pobox45w2tg150p': 2,\n",
       " 'dramatic': 1,\n",
       " 'maneesha': 1,\n",
       " 'eckankar': 1,\n",
       " 'yogasana': 5,\n",
       " 'minuts': 2,\n",
       " 'elaine': 2,\n",
       " 'brolly': 1,\n",
       " 'korche': 1,\n",
       " 'dvd': 6,\n",
       " 'tomo': 17,\n",
       " 'boatin': 1,\n",
       " 'httpimg': 1,\n",
       " 'resubbing': 1,\n",
       " '84': 1,\n",
       " 'aha': 8,\n",
       " 'glad': 10,\n",
       " 'stool': 1,\n",
       " '1230': 1,\n",
       " 'march': 12,\n",
       " '45': 1,\n",
       " 'worms': 1,\n",
       " 'playi': 1,\n",
       " 'receiving': 4,\n",
       " 'beggar': 1,\n",
       " 'ucall': 1,\n",
       " 'appropriate': 1,\n",
       " '46': 1,\n",
       " 'xx': 11,\n",
       " 'clover': 1,\n",
       " 'picking': 10,\n",
       " 'direct': 12,\n",
       " 'ages': 4,\n",
       " 'lateso': 1,\n",
       " 'icky': 1,\n",
       " 'watrdayno': 1,\n",
       " 'nahi': 2,\n",
       " 'onwords': 1,\n",
       " 'worryc': 1,\n",
       " 'bedrm900': 1,\n",
       " 'icicibankcom': 1,\n",
       " 'boytoy': 16,\n",
       " 'teach': 6,\n",
       " '5min': 2,\n",
       " 'olayiwolas': 1,\n",
       " 'stockport': 3,\n",
       " 'alaipayuthe': 1,\n",
       " 'gravel': 1,\n",
       " 'teresa': 1,\n",
       " 'mth': 1,\n",
       " 'religiously': 1,\n",
       " 'box61m60': 1,\n",
       " 'chords': 1,\n",
       " 'burrito': 1,\n",
       " 'passport': 1,\n",
       " 'prompts': 2,\n",
       " 'crickiting': 1,\n",
       " 'ruin': 2,\n",
       " 'sindu': 1,\n",
       " 'imprtant': 1,\n",
       " 'stays': 2,\n",
       " 'uniquei': 1,\n",
       " 'lifeis': 1,\n",
       " 'jane': 3,\n",
       " 'hui': 1,\n",
       " 'call2optoutj': 1,\n",
       " 'locaxx': 1,\n",
       " 'location': 2,\n",
       " 'fold': 1,\n",
       " '9funny': 1,\n",
       " 'lesson': 17,\n",
       " 'nauseous': 1,\n",
       " 'likeyour': 1,\n",
       " 'updat': 1,\n",
       " 'accordin': 1,\n",
       " 'trackmarque': 1,\n",
       " 'top': 19,\n",
       " '83110': 1,\n",
       " 'uneventful': 1,\n",
       " 'attractioni': 1,\n",
       " 'dearme': 1,\n",
       " 'x2': 1,\n",
       " 'spjanuary': 1,\n",
       " 'tcsbcm4235wc1n3xx': 2,\n",
       " 'grandma': 1,\n",
       " 'aft': 19,\n",
       " 'lush': 2,\n",
       " 'embassy': 1,\n",
       " '09090204448': 1,\n",
       " 'jus': 35,\n",
       " '09050000301': 1,\n",
       " 'acwicmb3cktz8r74': 1,\n",
       " '1843': 1,\n",
       " 'andres': 1,\n",
       " 'gay': 8,\n",
       " 'wotu': 1,\n",
       " 'units': 1,\n",
       " 'strokes': 1,\n",
       " 'nelson': 1,\n",
       " 'guy': 24,\n",
       " 'cruisin': 1,\n",
       " 'owo': 1,\n",
       " 'simply': 5,\n",
       " 'fromm': 2,\n",
       " 'browser': 1,\n",
       " 'hang': 2,\n",
       " 'blind': 2,\n",
       " 'franyxxxxx': 1,\n",
       " 'taxt': 1,\n",
       " 'mila': 1,\n",
       " 'irritating': 3,\n",
       " 'gnarls': 1,\n",
       " 'lambda': 1,\n",
       " 'hear': 31,\n",
       " 'lager': 1,\n",
       " '3rd': 2,\n",
       " '88888': 2,\n",
       " 'stopbcm': 1,\n",
       " 'nearby': 1,\n",
       " 'christmassy': 1,\n",
       " 'urination': 1,\n",
       " 'none': 5,\n",
       " 'kb': 7,\n",
       " 'eviction': 1,\n",
       " 'gmgngegn': 1,\n",
       " 'ger': 1,\n",
       " 'nothin': 2,\n",
       " 'ranjith': 2,\n",
       " '25p': 7,\n",
       " 'aiya': 4,\n",
       " 'raj': 2,\n",
       " 'wwwclubzedcouk': 1,\n",
       " 'negative': 1,\n",
       " 'prix': 1,\n",
       " 'lined': 1,\n",
       " 'britney': 1,\n",
       " '69888': 2,\n",
       " 'madam': 2,\n",
       " 'mutations': 1,\n",
       " 'watchin': 1,\n",
       " 'begun': 1,\n",
       " 'nowuse': 1,\n",
       " 'fallen': 1,\n",
       " 'fooled': 1,\n",
       " 'aah': 3,\n",
       " '09099726429': 1,\n",
       " 'selling': 5,\n",
       " 'ahnow': 1,\n",
       " '89105': 1,\n",
       " 'lands': 1,\n",
       " 'characters': 1,\n",
       " 'wuldnt': 1,\n",
       " 'boggy': 1,\n",
       " 'sthis': 1,\n",
       " 'egg': 3,\n",
       " 'envy': 1,\n",
       " 'prob': 14,\n",
       " 'omw': 7,\n",
       " 'qing': 1,\n",
       " 'safety': 1,\n",
       " 'disappointment': 1,\n",
       " 'honi': 1,\n",
       " 'slo': 1,\n",
       " 'tones2u': 1,\n",
       " '32323': 1,\n",
       " 'porridge': 1,\n",
       " 'velly': 1,\n",
       " 'hours': 18,\n",
       " 'wud': 2,\n",
       " 'fool': 3,\n",
       " 'comingdown': 1,\n",
       " 'helloed': 1,\n",
       " 'auntys': 1,\n",
       " 'nownyt': 1,\n",
       " 'aspects': 1,\n",
       " 'rem': 5,\n",
       " 'mobile': 118,\n",
       " 'bcm4284': 1,\n",
       " 'fried': 1,\n",
       " 'itnow': 1,\n",
       " 'accent': 1,\n",
       " 'hu': 1,\n",
       " 'alwys': 2,\n",
       " 'mids': 2,\n",
       " 'ice': 8,\n",
       " 'avoids': 1,\n",
       " 'limited': 1,\n",
       " 'enjoyin': 1,\n",
       " 'stuff42moro': 1,\n",
       " 'discreet': 2,\n",
       " '5im': 1,\n",
       " 'pattys': 1,\n",
       " 'orchard': 11,\n",
       " 'henry': 2,\n",
       " 'nokia150p': 1,\n",
       " 'shove': 1,\n",
       " 'aftr': 5,\n",
       " 'refilled': 1,\n",
       " '125gift': 2,\n",
       " 'overemphasiseor': 1,\n",
       " 'visitneed': 1,\n",
       " 'sale': 8,\n",
       " 'brainy': 1,\n",
       " 'texted': 4,\n",
       " 'plyr': 1,\n",
       " 'salespee': 1,\n",
       " 'eg': 12,\n",
       " 'comei': 1,\n",
       " 'pouch': 2,\n",
       " 'sortedbut': 1,\n",
       " 'witout': 1,\n",
       " 'someonethat': 1,\n",
       " 'vegetables': 1,\n",
       " 'roommates': 5,\n",
       " 'munsters': 2,\n",
       " 'watever': 1,\n",
       " '5k': 1,\n",
       " 'disturbing': 2,\n",
       " 'duchess': 2,\n",
       " 'moby': 4,\n",
       " 'melody': 1,\n",
       " 'animation': 1,\n",
       " 'built': 1,\n",
       " '69200': 1,\n",
       " 'dreams': 12,\n",
       " 'traditions': 1,\n",
       " 'vettam': 1,\n",
       " 'place': 51,\n",
       " 'mattermsg': 1,\n",
       " 'gran': 1,\n",
       " 'galileo': 2,\n",
       " 'nav': 1,\n",
       " 'individual': 1,\n",
       " 'datebox1282essexcm61xn': 2,\n",
       " 'mondaynxt': 1,\n",
       " 'dogbreath': 1,\n",
       " 'miltazindgi': 1,\n",
       " 'sparkling': 1,\n",
       " 'starring': 1,\n",
       " 'goodmorning': 13,\n",
       " 'mack': 1,\n",
       " 'senthilhsbc': 1,\n",
       " 'worst': 2,\n",
       " 'scold': 2,\n",
       " 'lessons': 9,\n",
       " 'herethanksi': 1,\n",
       " 'laptop': 11,\n",
       " 'showroomscity': 1,\n",
       " 'uhhhhrmm': 1,\n",
       " 'box420': 1,\n",
       " 'calldrove': 1,\n",
       " 'robinson': 1,\n",
       " 'freemsg': 12,\n",
       " 'buses': 2,\n",
       " 'knock': 2,\n",
       " '150ppm': 29,\n",
       " 'abi': 4,\n",
       " 'bruce': 2,\n",
       " 'returning': 1,\n",
       " 'eating': 7,\n",
       " 'gals': 4,\n",
       " 'blackberry': 4,\n",
       " 'lived': 1,\n",
       " 'granite': 2,\n",
       " 'mileage': 1,\n",
       " '08712300220': 6,\n",
       " 'message': 68,\n",
       " 'failed': 3,\n",
       " 'ideas': 4,\n",
       " 'gdnow': 1,\n",
       " '88600': 3,\n",
       " 'coz': 14,\n",
       " 'fiting': 1,\n",
       " 'unconvinced': 1,\n",
       " 'bear': 1,\n",
       " 'bids': 2,\n",
       " 'echo': 1,\n",
       " 'hands': 4,\n",
       " 'settings': 3,\n",
       " 'sambarlife': 1,\n",
       " 'gang': 3,\n",
       " 'needa': 1,\n",
       " 'seeno': 1,\n",
       " 'beer': 3,\n",
       " 'nice': 47,\n",
       " 'deadwell': 1,\n",
       " 'sup': 6,\n",
       " 'deposit': 1,\n",
       " 'hahatake': 1,\n",
       " 'ironing': 1,\n",
       " 'yer': 2,\n",
       " 'jade': 1,\n",
       " 'xxxxxxxxxxxxxx': 1,\n",
       " 'wa': 3,\n",
       " 'luks': 1,\n",
       " 'brief': 2,\n",
       " 'already': 90,\n",
       " 'gobi': 1,\n",
       " 'wife': 13,\n",
       " 'prayrs': 1,\n",
       " 'mummy': 3,\n",
       " 'selfindependence': 1,\n",
       " 'sleepingand': 1,\n",
       " 'mobstorequiz10ppm': 1,\n",
       " 'cards': 1,\n",
       " 'frequently': 1,\n",
       " 'toldshe': 1,\n",
       " 'missunderstding': 1,\n",
       " 'messed': 1,\n",
       " '2end': 1,\n",
       " '285': 1,\n",
       " '500000': 1,\n",
       " 'worklove': 1,\n",
       " 'suprman': 2,\n",
       " 'smsd': 1,\n",
       " 'varma': 1,\n",
       " 'dial': 2,\n",
       " 'remembrs': 1,\n",
       " 'companies': 1,\n",
       " 'milk': 3,\n",
       " 'channel': 2,\n",
       " 'deartake': 1,\n",
       " '83332please': 1,\n",
       " 'grave': 1,\n",
       " 'hotmix': 1,\n",
       " '10am9pm': 1,\n",
       " 'applying': 1,\n",
       " 'wld': 2,\n",
       " 'escalator': 1,\n",
       " 'gudni8': 1,\n",
       " 'loss': 3,\n",
       " 'stayin': 2,\n",
       " 'e': 81,\n",
       " 'rough': 1,\n",
       " 'dunno': 31,\n",
       " 'cds': 4,\n",
       " 'scared': 5,\n",
       " 'hostel': 5,\n",
       " 'searching': 4,\n",
       " 'due': 6,\n",
       " 'cali': 1,\n",
       " 'doctors': 1,\n",
       " 'iff': 1,\n",
       " 'argument': 3,\n",
       " 'welcome': 12,\n",
       " 'shows': 34,\n",
       " 'prakesh': 1,\n",
       " 'bangb': 1,\n",
       " 'looking': 27,\n",
       " 'teeth': 2,\n",
       " 'cheetos': 1,\n",
       " 'wylie': 4,\n",
       " '730pm': 1,\n",
       " 'b4': 13,\n",
       " 'dismissial': 1,\n",
       " 'motherinlaw': 1,\n",
       " 'yummmm': 1,\n",
       " 'raed': 1,\n",
       " 'mine': 15,\n",
       " 'rolled': 1,\n",
       " 'reflex': 1,\n",
       " 'kodstini': 1,\n",
       " 'maraikara': 1,\n",
       " 'somtimes': 1,\n",
       " 'chef': 1,\n",
       " 'hugging': 1,\n",
       " '02072069400': 1,\n",
       " 'take': 121,\n",
       " 'treated': 2,\n",
       " 'mandan': 1,\n",
       " '60pmin': 3,\n",
       " '9am11pm': 1,\n",
       " 'tear': 5,\n",
       " '11414': 3,\n",
       " 'whr': 1,\n",
       " 'duvet': 1,\n",
       " 'convince': 1,\n",
       " 'silently': 2,\n",
       " 'festival': 1,\n",
       " 'minded': 1,\n",
       " 'heehee': 1,\n",
       " 'increase': 1,\n",
       " 'sunshine': 6,\n",
       " 'popping': 1,\n",
       " '01223585334': 1,\n",
       " 'stalking': 1,\n",
       " 'joker': 1,\n",
       " '71': 1,\n",
       " 'ga': 1,\n",
       " 'listening': 3,\n",
       " '2wu': 1,\n",
       " 'skirt': 1,\n",
       " '82277unsub': 2,\n",
       " 'shortly': 4,\n",
       " 'seh': 1,\n",
       " 'bloo': 3,\n",
       " 'dhina': 1,\n",
       " 'weasels': 1,\n",
       " 'dearshall': 1,\n",
       " 'confused': 2,\n",
       " '3680': 1,\n",
       " 'search': 14,\n",
       " 'amplikater': 1,\n",
       " 'beyond': 3,\n",
       " 'dracula': 2,\n",
       " 'advice': 5,\n",
       " 'euro2004': 3,\n",
       " 'bcm': 1,\n",
       " 'todaygood': 1,\n",
       " 'mittelschmertz': 1,\n",
       " 'previously': 1,\n",
       " '8800': 1,\n",
       " 'kkapo': 1,\n",
       " 'kothi': 2,\n",
       " 'events': 1,\n",
       " 'chip': 2,\n",
       " 'dub': 1,\n",
       " 'kkgoodstudy': 1,\n",
       " 'violence': 3,\n",
       " 'playing': 5,\n",
       " 'pence': 3,\n",
       " 'sed': 3,\n",
       " 'fro': 1,\n",
       " 'eight': 3,\n",
       " 'totes': 1,\n",
       " 'wishes': 4,\n",
       " 'connect': 3,\n",
       " 'personal': 6,\n",
       " 'profiles': 1,\n",
       " 'ree': 1,\n",
       " 'mm': 10,\n",
       " 'evn': 2,\n",
       " 'whn': 2,\n",
       " 'mens': 1,\n",
       " 'bhaskar': 1,\n",
       " 'ela': 2,\n",
       " '08718711108': 1,\n",
       " 'msg150rcvd': 1,\n",
       " 'worried': 9,\n",
       " 'max7': 3,\n",
       " 'senrddnot': 1,\n",
       " 'asia': 1,\n",
       " 'luck': 12,\n",
       " 'deepest': 1,\n",
       " 'planettalkinstantcom': 1,\n",
       " 'rstm': 2,\n",
       " 'thatnow': 1,\n",
       " 'lnly': 1,\n",
       " 'say': 82,\n",
       " 'save': 10,\n",
       " 'chart': 2,\n",
       " 'strip': 1,\n",
       " '118pmsg': 1,\n",
       " 'gm': 1,\n",
       " 'keng': 1,\n",
       " 'sachinjust': 1,\n",
       " 'breather': 1,\n",
       " 'christmas': 12,\n",
       " 'irritates': 1,\n",
       " 'signing': 2,\n",
       " 'salmon': 1,\n",
       " '08714712412': 1,\n",
       " 'bao': 1,\n",
       " 'tonght': 1,\n",
       " 'low': 2,\n",
       " 'walsall': 1,\n",
       " 'strings': 1,\n",
       " 'rewarding': 2,\n",
       " 'spiffing': 1,\n",
       " '08718726270': 2,\n",
       " 'motorola': 11,\n",
       " 'hungry': 14,\n",
       " '2stoptxt': 2,\n",
       " 'colin': 1,\n",
       " 'bootydelious': 1,\n",
       " 'ultimatum': 2,\n",
       " 'related': 1,\n",
       " '087147123779am7pm': 1,\n",
       " 'oi': 2,\n",
       " 'dorothykiefercom': 1,\n",
       " 'congrats': 13,\n",
       " 'raiden': 1,\n",
       " 'godi': 1,\n",
       " 'swimsuit': 1,\n",
       " 'thenwill': 1,\n",
       " 'aunt': 2,\n",
       " 'pobox334': 3,\n",
       " 'get': 364,\n",
       " 'foreign': 3,\n",
       " 'asap': 10,\n",
       " 'big': 35,\n",
       " 'btnational': 1,\n",
       " 'uni': 5,\n",
       " '150pmsgrcvdhgsuite3422landsroww1j6hl': 4,\n",
       " 'parachute': 1,\n",
       " 'fuelled': 1,\n",
       " '2morrowxxxx': 1,\n",
       " 'required': 1,\n",
       " 'sized': 1,\n",
       " 'seemed': 4,\n",
       " 'trying': 42,\n",
       " 'httpwwwgr8prizescom': 1,\n",
       " 'red': 5,\n",
       " 'suffer': 1,\n",
       " 'tues': 2,\n",
       " 'eg23f': 1,\n",
       " 'purchase': 3,\n",
       " '087018728737': 1,\n",
       " 'spoilt': 1,\n",
       " 'slacking': 1,\n",
       " 'gifted': 1,\n",
       " 'csh11': 1,\n",
       " 'surprised': 4,\n",
       " 'nanny': 1,\n",
       " 'cricket': 1,\n",
       " 'carlosll': 1,\n",
       " 'pulling': 1,\n",
       " '1s': 2,\n",
       " 'onlyfound': 1,\n",
       " 'wendy': 1,\n",
       " 'shocking': 2,\n",
       " 'marvel': 1,\n",
       " 'therell': 1,\n",
       " 'balloon': 1,\n",
       " 'ph': 1,\n",
       " 'friendships': 1,\n",
       " 'ba': 2,\n",
       " 'bread': 2,\n",
       " 'lasting': 1,\n",
       " 'eurodisinc': 1,\n",
       " '09053750005': 1,\n",
       " 'ssnervous': 1,\n",
       " 'jokethet': 1,\n",
       " 'writhing': 1,\n",
       " 'activities': 2,\n",
       " 'advising': 1,\n",
       " 'ymca': 1,\n",
       " 'everyday': 2,\n",
       " 'gynae': 1,\n",
       " 'following': 6,\n",
       " 'tellmiss': 1,\n",
       " 'sneham': 1,\n",
       " 'report': 6,\n",
       " 'walking': 7,\n",
       " 'glasgow': 1,\n",
       " 'inc': 7,\n",
       " 'loko': 1,\n",
       " 'god': 24,\n",
       " 'changing': 1,\n",
       " 'lose': 12,\n",
       " 'mnths': 2,\n",
       " 'eire': 1,\n",
       " 'transaction': 3,\n",
       " '2mrw': 5,\n",
       " 'freaking': 1,\n",
       " 'twilight': 2,\n",
       " 'airtel': 2,\n",
       " 'jd': 1,\n",
       " '25f': 1,\n",
       " 'aretaking': 1,\n",
       " 'ghost': 2,\n",
       " 'plm': 2,\n",
       " 'outl8r': 1,\n",
       " 'tarpon': 1,\n",
       " 'american': 3,\n",
       " 'po19': 1,\n",
       " 'recdthirtyeight': 1,\n",
       " 'thot': 2,\n",
       " 'across': 10,\n",
       " 'mom': 12,\n",
       " 'fishrman': 1,\n",
       " 'pudunga': 1,\n",
       " 'endowed': 1,\n",
       " 'call2optoutj5q': 1,\n",
       " 'yards': 1,\n",
       " 'urgentbut': 1,\n",
       " 'thanxxx': 1,\n",
       " '08715203652': 1,\n",
       " 'divert': 1,\n",
       " 'flow': 1,\n",
       " 'patent': 1,\n",
       " 'thinked': 1,\n",
       " '326': 2,\n",
       " 'wrecked': 1,\n",
       " 'sea': 14,\n",
       " 'treats': 1,\n",
       " 'arranging': 1,\n",
       " 'teethif': 1,\n",
       " 'hmmm': 9,\n",
       " 'hmph': 1,\n",
       " 'goodnite': 2,\n",
       " 'thank': 28,\n",
       " 'waitin': 4,\n",
       " 'batch': 2,\n",
       " 'rubber': 1,\n",
       " '8wp': 3,\n",
       " 'interested': 7,\n",
       " 'sd': 1,\n",
       " 'sachin': 1,\n",
       " 'helens': 1,\n",
       " 'final': 15,\n",
       " 'easiest': 1,\n",
       " 'abel': 1,\n",
       " '69988': 1,\n",
       " 'mint': 1,\n",
       " 'shijas': 1,\n",
       " 'gamestar': 1,\n",
       " 'pussy': 6,\n",
       " 'grins': 12,\n",
       " 'prize': 81,\n",
       " 'wwwldewcom1win150ppmx3age16subscription': 1,\n",
       " 'football': 3,\n",
       " 'captaining': 1,\n",
       " 'concerned': 1,\n",
       " 'exe': 3,\n",
       " '27603': 1,\n",
       " 'dick': 3,\n",
       " 'lovers': 2,\n",
       " 'usualiam': 1,\n",
       " 'squeeeeeze': 1,\n",
       " 'gooddhanush': 1,\n",
       " 'shagged': 1,\n",
       " 'box334sk38ch': 2,\n",
       " 'vid': 1,\n",
       " 'vary': 4,\n",
       " 'happend': 2,\n",
       " '60p': 1,\n",
       " 'rest': 9,\n",
       " 'lifted': 1,\n",
       " '087123002209am7pm': 1,\n",
       " 'sense': 7,\n",
       " 'complexities': 1,\n",
       " 'elvis': 1,\n",
       " 'apartment': 4,\n",
       " 'thankyou': 1,\n",
       " 'passionate': 4,\n",
       " 'aids': 1,\n",
       " 'lanre': 1,\n",
       " '09058091854': 1,\n",
       " 'tonitebusy': 1,\n",
       " 'logopic': 3,\n",
       " 'fucked': 2,\n",
       " 'topped': 1,\n",
       " 'wicked': 1,\n",
       " '30pptxt': 1,\n",
       " 'winds': 1,\n",
       " 'tactful': 1,\n",
       " 'hidid': 1,\n",
       " '0825': 1,\n",
       " 'kodthini': 1,\n",
       " 'infront': 2,\n",
       " 'dust': 1,\n",
       " 'pm': 13,\n",
       " 'instantly': 2,\n",
       " 'urgoin': 1,\n",
       " 'gaytextbuddycom': 2,\n",
       " 'boooo': 1,\n",
       " 'damn': 6,\n",
       " '09066364349': 1,\n",
       " 'regards': 4,\n",
       " 'pc': 8,\n",
       " '900': 8,\n",
       " 'cine': 7,\n",
       " 'vilikkamt': 1,\n",
       " 'answered': 2,\n",
       " 'busy': 19,\n",
       " 'thanx4': 1,\n",
       " 'constant': 2,\n",
       " '09061221066': 2,\n",
       " 'lecturer': 1,\n",
       " '5wb': 5,\n",
       " 'vomitin': 1,\n",
       " 'mumhas': 1,\n",
       " 'house': 35,\n",
       " 'auction': 16,\n",
       " 'dado': 1,\n",
       " 'ee': 2,\n",
       " 'thnx': 1,\n",
       " 'tag': 1,\n",
       " 'yeovil': 1,\n",
       " 'fullonsmscom': 3,\n",
       " 'pound': 7,\n",
       " 'heads': 2,\n",
       " 'nimya': 1,\n",
       " 'sankranti': 1,\n",
       " 'celebrate': 4,\n",
       " 'billy': 1,\n",
       " 'breaking': 1,\n",
       " 'management': 3,\n",
       " 'durban': 2,\n",
       " 'accomodations': 1,\n",
       " 'aiyah': 6,\n",
       " '07801543489': 1,\n",
       " 'beeen': 1,\n",
       " 'stuffwhy': 1,\n",
       " 'specially': 8,\n",
       " 'speak': 30,\n",
       " 'settled': 3,\n",
       " 'diwali': 2,\n",
       " 'nigh': 1,\n",
       " 'diseases': 1,\n",
       " 'xxxxx': 2,\n",
       " 'complimentary': 11,\n",
       " 'divorce': 2,\n",
       " '09066362231': 3,\n",
       " 'problem': 33,\n",
       " 'musical': 1,\n",
       " 'footblcrckt': 1,\n",
       " 'l8r': 6,\n",
       " 'weddin': 1,\n",
       " 'odi': 2,\n",
       " 'barmed': 1,\n",
       " 'dolls': 1,\n",
       " 'ppl': 4,\n",
       " 'sumthin': 1,\n",
       " 'tooo': 2,\n",
       " 'think': 130,\n",
       " 'driving': 22,\n",
       " 'hanks': 1,\n",
       " 'nosy': 1,\n",
       " 'instead': 7,\n",
       " 'resizing': 1,\n",
       " '3unkempt': 1,\n",
       " 'onum': 1,\n",
       " 'maggi': 1,\n",
       " 'flute': 1,\n",
       " '36504': 4,\n",
       " 'monthnot': 1,\n",
       " 'looks': 7,\n",
       " 'means': 21,\n",
       " 'undrstndng': 1,\n",
       " 'admit': 1,\n",
       " 'ladies': 5,\n",
       " 'cmon': 1,\n",
       " 'wenever': 1,\n",
       " 'xxxxxx': 1,\n",
       " 'gal': 7,\n",
       " 'whos': 8,\n",
       " '400minscall': 1,\n",
       " 'jjc': 1,\n",
       " 'gigolo': 1,\n",
       " 'completely': 7,\n",
       " 'cliff': 1,\n",
       " 'sept': 4,\n",
       " '255': 1,\n",
       " 'mess': 2,\n",
       " 'cantdo': 1,\n",
       " 'shaking': 1,\n",
       " 'choosing': 1,\n",
       " 'bras': 1,\n",
       " 'tsandcs': 1,\n",
       " 'nervous': 1,\n",
       " 'ho': 7,\n",
       " 'throwin': 1,\n",
       " 'abstract': 1,\n",
       " 'collected': 2,\n",
       " 'wanna': 38,\n",
       " 'surya': 1,\n",
       " 'lucky': 17,\n",
       " 'drugs': 10,\n",
       " '88039': 3,\n",
       " 'havnt': 2,\n",
       " 'arpraveesh': 1,\n",
       " 'skilgme': 3,\n",
       " 'hello': 43,\n",
       " 'canteen': 1,\n",
       " '02085076972': 1,\n",
       " 'likingbe': 1,\n",
       " 'ron': 3,\n",
       " 'ten': 10,\n",
       " 'risk': 1,\n",
       " 'bold2': 1,\n",
       " 'cha': 4,\n",
       " 'strong': 5,\n",
       " 'help08712400602450p': 2,\n",
       " '500': 36,\n",
       " '09065069120': 1,\n",
       " 'videochat': 3,\n",
       " 'nothing': 38,\n",
       " '21': 2,\n",
       " '400': 7,\n",
       " 'jide': 1,\n",
       " '09061790121': 2,\n",
       " 'passion': 1,\n",
       " 'cricketer': 1,\n",
       " '1st4terms': 1,\n",
       " 'broke': 5,\n",
       " '6ramaduth': 1,\n",
       " 'partners': 1,\n",
       " 'sane': 1,\n",
       " 'cock': 3,\n",
       " 'turkeys': 1,\n",
       " 'remb': 1,\n",
       " 'headache': 3,\n",
       " 'stubborn': 1,\n",
       " 'cannot': 5,\n",
       " 'double': 17,\n",
       " 'orangei': 1,\n",
       " 'another': 35,\n",
       " 'education': 1,\n",
       " 'mobs': 1,\n",
       " 'operator': 11,\n",
       " 'offering': 1,\n",
       " 'shahjahans': 1,\n",
       " 'brison': 1,\n",
       " 'spiderman': 1,\n",
       " 'court': 1,\n",
       " 'bong': 1,\n",
       " 'hides': 1,\n",
       " 'extreme': 1,\n",
       " 'taxi': 2,\n",
       " 'best1': 1,\n",
       " 'dearslp': 1,\n",
       " 'dresser': 3,\n",
       " 'truthful': 1,\n",
       " '310303': 1,\n",
       " 'tessypls': 1,\n",
       " '83118': 1,\n",
       " 'bank': 14,\n",
       " 'sales': 1,\n",
       " 'weve': 5,\n",
       " 'pickle': 1,\n",
       " 'gossx': 1,\n",
       " 'mmmm': 3,\n",
       " 'mins100txtmth': 1,\n",
       " 'flies': 2,\n",
       " 'realised': 1,\n",
       " 'luck2': 1,\n",
       " 'prabhaim': 1,\n",
       " 'fortune': 1,\n",
       " 'herwho': 1,\n",
       " 'urgnt': 3,\n",
       " 'sprint': 1,\n",
       " 'arrive': 7,\n",
       " 'bang': 2,\n",
       " 'hearing': 1,\n",
       " 'trip': 20,\n",
       " 'cream': 4,\n",
       " 'shola': 1,\n",
       " 'se': 3,\n",
       " 'stressed': 1,\n",
       " 'ni8': 9,\n",
       " 'spouse': 1,\n",
       " '09050003091': 2,\n",
       " 'auto': 3,\n",
       " 'soso': 1,\n",
       " 'w4': 1,\n",
       " 'fucks': 2,\n",
       " 'looked': 5,\n",
       " 'tocallshall': 1,\n",
       " 'truth': 9,\n",
       " 'dependable': 1,\n",
       " 'atyour': 1,\n",
       " 'nagar': 1,\n",
       " 'ad': 5,\n",
       " 'aig': 1,\n",
       " 'planning': 8,\n",
       " 'gbp150week': 1,\n",
       " 'showered': 1,\n",
       " 'cm': 2,\n",
       " '8lovable': 1,\n",
       " 'serena': 1,\n",
       " 'fondly': 1,\n",
       " 'icon': 1,\n",
       " '2b': 1,\n",
       " 'kkthis': 1,\n",
       " 'bedroomlove': 1,\n",
       " 'yen': 1,\n",
       " 'dane': 1,\n",
       " 'orc': 1,\n",
       " 'offered': 1,\n",
       " 'recharged': 1,\n",
       " 'man': 35,\n",
       " 'nick': 1,\n",
       " 'tension': 2,\n",
       " 'rct': 1,\n",
       " 'barry': 1,\n",
       " 'watches': 1,\n",
       " 'demand': 2,\n",
       " 'barolla': 1,\n",
       " 'situation': 7,\n",
       " 'lower': 2,\n",
       " 'couch': 1,\n",
       " 'closed': 2,\n",
       " 'furniture': 2,\n",
       " 'chatim': 1,\n",
       " 'dear1': 1,\n",
       " 'disconnected': 1,\n",
       " 'agocusoon': 1,\n",
       " 'live': 37,\n",
       " 'hockey': 2,\n",
       " 'gained': 1,\n",
       " 'bcaz': 1,\n",
       " 'callers': 2,\n",
       " '08712460324': 7,\n",
       " 'bx420': 2,\n",
       " 'm8s': 3,\n",
       " 'definite': 2,\n",
       " 'orig': 1,\n",
       " 'thread': 2,\n",
       " 'rs': 7,\n",
       " 'sashimi': 1,\n",
       " 'alcohol': 3,\n",
       " 'champ': 1,\n",
       " 'hill': 4,\n",
       " 'behave': 3,\n",
       " 'purpose': 2,\n",
       " 'dismay': 1,\n",
       " 'lool': 1,\n",
       " 'call2optoutlf56': 1,\n",
       " 'lecture': 4,\n",
       " 'indians': 3,\n",
       " '08701417012150p': 2,\n",
       " 'zogtorius': 1,\n",
       " 'massive': 2,\n",
       " 'catch': 9,\n",
       " 'ups': 1,\n",
       " 'days': 33,\n",
       " 'waitshould': 1,\n",
       " 'beatings': 1,\n",
       " 'chennaibecause': 1,\n",
       " 'worse': 6,\n",
       " 'walks': 1,\n",
       " 'babesozi': 1,\n",
       " 'opportunitypls': 1,\n",
       " 'ruining': 2,\n",
       " '230ish': 1,\n",
       " 'sony': 6,\n",
       " 'released': 4,\n",
       " 'weekstop': 1,\n",
       " 'liaotoo': 1,\n",
       " '09056242159': 2,\n",
       " 'twittering': 1,\n",
       " 'chastity': 1,\n",
       " 'bud': 4,\n",
       " 'loneliness': 1,\n",
       " 'tune': 1,\n",
       " 'unfortunately': 2,\n",
       " 'lennon': 1,\n",
       " 'iouri': 3,\n",
       " 'freemsgfav': 1,\n",
       " 'pose': 1,\n",
       " 'mind': 35,\n",
       " 'reset': 1,\n",
       " '645pm': 1,\n",
       " 'eventually': 1,\n",
       " 'cttergg': 1,\n",
       " 'prabha': 2,\n",
       " 'okies': 1,\n",
       " 'dawhats': 1,\n",
       " 'sim': 10,\n",
       " 'alian': 1,\n",
       " 'fated': 1,\n",
       " 'ashwini': 1,\n",
       " 'kama': 1,\n",
       " 'flame': 2,\n",
       " 'listed': 1,\n",
       " 'calling': 17,\n",
       " 'map': 3,\n",
       " 'throw': 4,\n",
       " 'forgt': 1,\n",
       " 'bcoz': 7,\n",
       " ...}"
      ]
     },
     "execution_count": 59,
     "metadata": {},
     "output_type": "execute_result"
    }
   ],
   "source": [
    "unique_word_count"
   ]
  },
  {
   "cell_type": "code",
   "execution_count": 60,
   "id": "daac3f20",
   "metadata": {},
   "outputs": [],
   "source": [
    "term_freq = pd.Series(unique_word_count).sort_values(ascending=False)"
   ]
  },
  {
   "cell_type": "code",
   "execution_count": 61,
   "id": "9d45a88f",
   "metadata": {},
   "outputs": [
    {
     "data": {
      "text/plain": [
       "u           1001\n",
       "call         487\n",
       "im           456\n",
       "2            443\n",
       "get          364\n",
       "            ... \n",
       "sagamu         1\n",
       "retired        1\n",
       "meetins        1\n",
       "shortage       1\n",
       "jeri           1\n",
       "Length: 9346, dtype: int64"
      ]
     },
     "execution_count": 61,
     "metadata": {},
     "output_type": "execute_result"
    }
   ],
   "source": [
    "term_freq"
   ]
  },
  {
   "cell_type": "code",
   "execution_count": 62,
   "id": "1c450ad8",
   "metadata": {},
   "outputs": [],
   "source": [
    "least_freq_word_used = term_freq[term_freq<=1].index"
   ]
  },
  {
   "cell_type": "code",
   "execution_count": 63,
   "id": "2acd0502",
   "metadata": {
    "scrolled": true
   },
   "outputs": [
    {
     "data": {
      "text/plain": [
       "Index(['yesbut', 'ifwhenhow', 'exposes', 'px3748', 'herepls', 'nose', '1cup',\n",
       "       'intrepid', 'asda', '07008009200',\n",
       "       ...\n",
       "       'fwiw', 'growrandom', 'nowreply', 'jot', '09066362206', 'sagamu',\n",
       "       'retired', 'meetins', 'shortage', 'jeri'],\n",
       "      dtype='object', length=5634)"
      ]
     },
     "execution_count": 63,
     "metadata": {},
     "output_type": "execute_result"
    }
   ],
   "source": [
    "term_freq[term_freq<=1].index"
   ]
  },
  {
   "cell_type": "code",
   "execution_count": 64,
   "id": "2c286900",
   "metadata": {},
   "outputs": [
    {
     "data": {
      "text/html": [
       "<div>\n",
       "<style scoped>\n",
       "    .dataframe tbody tr th:only-of-type {\n",
       "        vertical-align: middle;\n",
       "    }\n",
       "\n",
       "    .dataframe tbody tr th {\n",
       "        vertical-align: top;\n",
       "    }\n",
       "\n",
       "    .dataframe thead th {\n",
       "        text-align: right;\n",
       "    }\n",
       "</style>\n",
       "<table border=\"1\" class=\"dataframe\">\n",
       "  <thead>\n",
       "    <tr style=\"text-align: right;\">\n",
       "      <th></th>\n",
       "      <th>spam</th>\n",
       "      <th>Message</th>\n",
       "      <th>length</th>\n",
       "      <th>word_count</th>\n",
       "    </tr>\n",
       "  </thead>\n",
       "  <tbody>\n",
       "    <tr>\n",
       "      <th>0</th>\n",
       "      <td>0</td>\n",
       "      <td>go jurong point crazy available bugis n great ...</td>\n",
       "      <td>111</td>\n",
       "      <td>20</td>\n",
       "    </tr>\n",
       "    <tr>\n",
       "      <th>1</th>\n",
       "      <td>0</td>\n",
       "      <td>ok lar joking wif u oni</td>\n",
       "      <td>29</td>\n",
       "      <td>6</td>\n",
       "    </tr>\n",
       "    <tr>\n",
       "      <th>2</th>\n",
       "      <td>1</td>\n",
       "      <td>free entry 2 wkly comp win fa cup final tkts 2...</td>\n",
       "      <td>155</td>\n",
       "      <td>28</td>\n",
       "    </tr>\n",
       "    <tr>\n",
       "      <th>3</th>\n",
       "      <td>0</td>\n",
       "      <td>u dun say early hor u c already say</td>\n",
       "      <td>49</td>\n",
       "      <td>11</td>\n",
       "    </tr>\n",
       "    <tr>\n",
       "      <th>4</th>\n",
       "      <td>0</td>\n",
       "      <td>nah dont think goes usf lives around though</td>\n",
       "      <td>61</td>\n",
       "      <td>13</td>\n",
       "    </tr>\n",
       "    <tr>\n",
       "      <th>...</th>\n",
       "      <td>...</td>\n",
       "      <td>...</td>\n",
       "      <td>...</td>\n",
       "      <td>...</td>\n",
       "    </tr>\n",
       "    <tr>\n",
       "      <th>5164</th>\n",
       "      <td>1</td>\n",
       "      <td>2nd time tried 2 contact u u 750 pound prize 2...</td>\n",
       "      <td>161</td>\n",
       "      <td>30</td>\n",
       "    </tr>\n",
       "    <tr>\n",
       "      <th>5165</th>\n",
       "      <td>0</td>\n",
       "      <td>b going esplanade fr home</td>\n",
       "      <td>37</td>\n",
       "      <td>8</td>\n",
       "    </tr>\n",
       "    <tr>\n",
       "      <th>5166</th>\n",
       "      <td>0</td>\n",
       "      <td>pity mood soany suggestions</td>\n",
       "      <td>57</td>\n",
       "      <td>10</td>\n",
       "    </tr>\n",
       "    <tr>\n",
       "      <th>5167</th>\n",
       "      <td>0</td>\n",
       "      <td>guy bitching acted like id interested buying s...</td>\n",
       "      <td>125</td>\n",
       "      <td>26</td>\n",
       "    </tr>\n",
       "    <tr>\n",
       "      <th>5168</th>\n",
       "      <td>0</td>\n",
       "      <td>rofl true name</td>\n",
       "      <td>26</td>\n",
       "      <td>6</td>\n",
       "    </tr>\n",
       "  </tbody>\n",
       "</table>\n",
       "<p>5169 rows × 4 columns</p>\n",
       "</div>"
      ],
      "text/plain": [
       "      spam                                            Message  length  \\\n",
       "0        0  go jurong point crazy available bugis n great ...     111   \n",
       "1        0                            ok lar joking wif u oni      29   \n",
       "2        1  free entry 2 wkly comp win fa cup final tkts 2...     155   \n",
       "3        0                u dun say early hor u c already say      49   \n",
       "4        0        nah dont think goes usf lives around though      61   \n",
       "...    ...                                                ...     ...   \n",
       "5164     1  2nd time tried 2 contact u u 750 pound prize 2...     161   \n",
       "5165     0                          b going esplanade fr home      37   \n",
       "5166     0                        pity mood soany suggestions      57   \n",
       "5167     0  guy bitching acted like id interested buying s...     125   \n",
       "5168     0                                     rofl true name      26   \n",
       "\n",
       "      word_count  \n",
       "0             20  \n",
       "1              6  \n",
       "2             28  \n",
       "3             11  \n",
       "4             13  \n",
       "...          ...  \n",
       "5164          30  \n",
       "5165           8  \n",
       "5166          10  \n",
       "5167          26  \n",
       "5168           6  \n",
       "\n",
       "[5169 rows x 4 columns]"
      ]
     },
     "execution_count": 64,
     "metadata": {},
     "output_type": "execute_result"
    }
   ],
   "source": [
    "df"
   ]
  },
  {
   "cell_type": "code",
   "execution_count": 65,
   "id": "6d631e31",
   "metadata": {
    "scrolled": true
   },
   "outputs": [],
   "source": [
    "df['Message'] = df['Message'].apply(lambda x :' '.join(i for i in x.split() if i not in least_freq_word_used))"
   ]
  },
  {
   "cell_type": "code",
   "execution_count": 66,
   "id": "8b04b064",
   "metadata": {},
   "outputs": [
    {
     "data": {
      "text/plain": [
       "0       go point crazy available bugis n great world l...\n",
       "1                                 ok lar joking wif u oni\n",
       "2       free entry 2 wkly comp win fa cup final tkts 2...\n",
       "3                     u dun say early hor u c already say\n",
       "4             nah dont think goes usf lives around though\n",
       "                              ...                        \n",
       "5164    2nd time tried 2 contact u u 750 pound prize 2...\n",
       "5165                            b going esplanade fr home\n",
       "5166                                                 mood\n",
       "5167    guy acted like id interested buying something ...\n",
       "5168                                       rofl true name\n",
       "Name: Message, Length: 5169, dtype: object"
      ]
     },
     "execution_count": 66,
     "metadata": {},
     "output_type": "execute_result"
    }
   ],
   "source": [
    "df['Message']"
   ]
  },
  {
   "cell_type": "code",
   "execution_count": 67,
   "id": "d1d0ca93",
   "metadata": {},
   "outputs": [
    {
     "data": {
      "text/plain": [
       "u         1001\n",
       "call       487\n",
       "im         456\n",
       "2          443\n",
       "get        364\n",
       "ur         316\n",
       "dont       269\n",
       "go         269\n",
       "4          257\n",
       "ltgt       254\n",
       "ok         251\n",
       "free       243\n",
       "know       239\n",
       "got        231\n",
       "like       231\n",
       "good       217\n",
       "ill        210\n",
       "come       210\n",
       "time       199\n",
       "want       187\n",
       "day        182\n",
       "love       178\n",
       "text       170\n",
       "send       165\n",
       "going      165\n",
       "one        163\n",
       "need       162\n",
       "lor        157\n",
       "home       153\n",
       "see        149\n",
       "back       146\n",
       "still      146\n",
       "txt        139\n",
       "r          138\n",
       "stop       137\n",
       "well       130\n",
       "think      130\n",
       "today      129\n",
       "reply      128\n",
       "tell       127\n",
       "n          125\n",
       "hi         125\n",
       "new        125\n",
       "da         124\n",
       "sorry      122\n",
       "take       121\n",
       "mobile     118\n",
       "please     118\n",
       "phone      112\n",
       "hey        111\n",
       "dtype: int64"
      ]
     },
     "execution_count": 67,
     "metadata": {},
     "output_type": "execute_result"
    }
   ],
   "source": [
    "term_freq.head(50)"
   ]
  },
  {
   "cell_type": "code",
   "execution_count": 68,
   "id": "6b13893f",
   "metadata": {},
   "outputs": [],
   "source": [
    "most_freq_used_words = term_freq.head(9).index"
   ]
  },
  {
   "cell_type": "code",
   "execution_count": 69,
   "id": "334f49b9",
   "metadata": {},
   "outputs": [],
   "source": [
    "df['Message'] = df['Message'].apply(lambda x :' '.join(i for i in x.split() if i not in most_freq_used_words))"
   ]
  },
  {
   "cell_type": "code",
   "execution_count": 70,
   "id": "14e4dfd6",
   "metadata": {},
   "outputs": [
    {
     "data": {
      "text/plain": [
       "0       point crazy available bugis n great world la e...\n",
       "1                                   ok lar joking wif oni\n",
       "2       free entry wkly comp win fa cup final tkts 21s...\n",
       "3                         dun say early hor c already say\n",
       "4                  nah think goes usf lives around though\n",
       "                              ...                        \n",
       "5164    2nd time tried contact 750 pound prize claim e...\n",
       "5165                            b going esplanade fr home\n",
       "5166                                                 mood\n",
       "5167    guy acted like id interested buying something ...\n",
       "5168                                       rofl true name\n",
       "Name: Message, Length: 5169, dtype: object"
      ]
     },
     "execution_count": 70,
     "metadata": {},
     "output_type": "execute_result"
    }
   ],
   "source": [
    "df['Message']"
   ]
  },
  {
   "cell_type": "markdown",
   "id": "2d7df5d3",
   "metadata": {},
   "source": [
    "### Steeming"
   ]
  },
  {
   "cell_type": "code",
   "execution_count": 71,
   "id": "0e1aacd5",
   "metadata": {},
   "outputs": [],
   "source": [
    "from nltk.stem import PorterStemmer"
   ]
  },
  {
   "cell_type": "code",
   "execution_count": 72,
   "id": "5c688061",
   "metadata": {},
   "outputs": [],
   "source": [
    "st = PorterStemmer()"
   ]
  },
  {
   "cell_type": "code",
   "execution_count": 73,
   "id": "12104cbe",
   "metadata": {},
   "outputs": [
    {
     "data": {
      "text/plain": [
       "'buy'"
      ]
     },
     "execution_count": 73,
     "metadata": {},
     "output_type": "execute_result"
    }
   ],
   "source": [
    "st.stem('buying')"
   ]
  },
  {
   "cell_type": "code",
   "execution_count": 74,
   "id": "41dc7b28",
   "metadata": {},
   "outputs": [
    {
     "data": {
      "text/plain": [
       "'danc'"
      ]
     },
     "execution_count": 74,
     "metadata": {},
     "output_type": "execute_result"
    }
   ],
   "source": [
    "st.stem('dancing')"
   ]
  },
  {
   "cell_type": "code",
   "execution_count": 75,
   "id": "9a94b754",
   "metadata": {
    "scrolled": true
   },
   "outputs": [
    {
     "data": {
      "text/plain": [
       "['alumni', 'alumnu', 'alumna']"
      ]
     },
     "execution_count": 75,
     "metadata": {},
     "output_type": "execute_result"
    }
   ],
   "source": [
    "[st.stem(i) for i in ['Alumni', 'Alumnus', 'Alumnae']]"
   ]
  },
  {
   "cell_type": "code",
   "execution_count": 76,
   "id": "bcbe4d99",
   "metadata": {},
   "outputs": [
    {
     "data": {
      "text/plain": [
       "0       point crazi avail bugi n great world la e buff...\n",
       "1                                     ok lar joke wif oni\n",
       "2       free entri wkli comp win fa cup final tkt 21st...\n",
       "3                         dun say earli hor c alreadi say\n",
       "4                    nah think goe usf live around though\n",
       "                              ...                        \n",
       "5164    2nd time tri contact 750 pound prize claim eas...\n",
       "5165                                b go esplanad fr home\n",
       "5166                                                 mood\n",
       "5167    guy act like id interest buy someth els next w...\n",
       "5168                                       rofl true name\n",
       "Name: Message, Length: 5169, dtype: object"
      ]
     },
     "execution_count": 76,
     "metadata": {},
     "output_type": "execute_result"
    }
   ],
   "source": [
    "df['Message'].apply(lambda x : ' '.join(st.stem(i) for i in x.split()))"
   ]
  },
  {
   "cell_type": "markdown",
   "id": "66190a74",
   "metadata": {},
   "source": [
    "### Lemmatizer"
   ]
  },
  {
   "cell_type": "code",
   "execution_count": 77,
   "id": "b8d046af",
   "metadata": {},
   "outputs": [],
   "source": [
    "from nltk.stem import WordNetLemmatizer"
   ]
  },
  {
   "cell_type": "code",
   "execution_count": 78,
   "id": "488b9df4",
   "metadata": {},
   "outputs": [
    {
     "name": "stderr",
     "output_type": "stream",
     "text": [
      "[nltk_data] Downloading package omw-1.4 to\n",
      "[nltk_data]     C:\\Users\\snigd\\AppData\\Roaming\\nltk_data...\n",
      "[nltk_data]   Package omw-1.4 is already up-to-date!\n"
     ]
    },
    {
     "data": {
      "text/plain": [
       "True"
      ]
     },
     "execution_count": 78,
     "metadata": {},
     "output_type": "execute_result"
    }
   ],
   "source": [
    "nltk.download('omw-1.4')"
   ]
  },
  {
   "cell_type": "code",
   "execution_count": 79,
   "id": "eaa392dd",
   "metadata": {},
   "outputs": [],
   "source": [
    "lem = WordNetLemmatizer()"
   ]
  },
  {
   "cell_type": "code",
   "execution_count": 80,
   "id": "245c17d7",
   "metadata": {},
   "outputs": [
    {
     "data": {
      "text/plain": [
       "['write', 'Bought', 'write', 'play']"
      ]
     },
     "execution_count": 80,
     "metadata": {},
     "output_type": "execute_result"
    }
   ],
   "source": [
    "[lem.lemmatize(i, pos='v') for i in ['write', 'Bought', 'writing', 'played']]"
   ]
  },
  {
   "cell_type": "code",
   "execution_count": 81,
   "id": "e8b977a5",
   "metadata": {},
   "outputs": [
    {
     "data": {
      "text/plain": [
       "['Alumni', 'Alumnus', 'Alumnae']"
      ]
     },
     "execution_count": 81,
     "metadata": {},
     "output_type": "execute_result"
    }
   ],
   "source": [
    "[lem.lemmatize(i) for i in ['Alumni', 'Alumnus', 'Alumnae']]"
   ]
  },
  {
   "cell_type": "code",
   "execution_count": 82,
   "id": "4a5d4cf3",
   "metadata": {},
   "outputs": [
    {
     "data": {
      "text/plain": [
       "['nicely', 'fastly', 'hugely']"
      ]
     },
     "execution_count": 82,
     "metadata": {},
     "output_type": "execute_result"
    }
   ],
   "source": [
    "[lem.lemmatize(i, pos='r') for i in ['nicely', 'fastly', 'hugely']]"
   ]
  },
  {
   "cell_type": "code",
   "execution_count": 83,
   "id": "029bc590",
   "metadata": {},
   "outputs": [],
   "source": [
    "df['Message'] = df['Message'].apply(lambda x : ' '.join(lem.lemmatize(i, pos='v') for i in x.split()))"
   ]
  },
  {
   "cell_type": "code",
   "execution_count": 84,
   "id": "e2a2787b",
   "metadata": {},
   "outputs": [
    {
     "data": {
      "text/plain": [
       "0       point crazy available bugis n great world la e...\n",
       "1                                     ok lar joke wif oni\n",
       "2       free entry wkly comp win fa cup final tkts 21s...\n",
       "3                         dun say early hor c already say\n",
       "4                     nah think go usf live around though\n",
       "                              ...                        \n",
       "5164    2nd time try contact 750 pound prize claim eas...\n",
       "5165                               b go esplanade fr home\n",
       "5166                                                 mood\n",
       "5167    guy act like id interest buy something else ne...\n",
       "5168                                       rofl true name\n",
       "Name: Message, Length: 5169, dtype: object"
      ]
     },
     "execution_count": 84,
     "metadata": {},
     "output_type": "execute_result"
    }
   ],
   "source": [
    "df['Message']"
   ]
  },
  {
   "cell_type": "code",
   "execution_count": 85,
   "id": "0ad0da69",
   "metadata": {},
   "outputs": [
    {
     "data": {
      "text/html": [
       "<div>\n",
       "<style scoped>\n",
       "    .dataframe tbody tr th:only-of-type {\n",
       "        vertical-align: middle;\n",
       "    }\n",
       "\n",
       "    .dataframe tbody tr th {\n",
       "        vertical-align: top;\n",
       "    }\n",
       "\n",
       "    .dataframe thead th {\n",
       "        text-align: right;\n",
       "    }\n",
       "</style>\n",
       "<table border=\"1\" class=\"dataframe\">\n",
       "  <thead>\n",
       "    <tr style=\"text-align: right;\">\n",
       "      <th></th>\n",
       "      <th>spam</th>\n",
       "      <th>Message</th>\n",
       "      <th>length</th>\n",
       "      <th>word_count</th>\n",
       "    </tr>\n",
       "  </thead>\n",
       "  <tbody>\n",
       "    <tr>\n",
       "      <th>0</th>\n",
       "      <td>0</td>\n",
       "      <td>point crazy available bugis n great world la e...</td>\n",
       "      <td>111</td>\n",
       "      <td>20</td>\n",
       "    </tr>\n",
       "    <tr>\n",
       "      <th>1</th>\n",
       "      <td>0</td>\n",
       "      <td>ok lar joke wif oni</td>\n",
       "      <td>29</td>\n",
       "      <td>6</td>\n",
       "    </tr>\n",
       "    <tr>\n",
       "      <th>2</th>\n",
       "      <td>1</td>\n",
       "      <td>free entry wkly comp win fa cup final tkts 21s...</td>\n",
       "      <td>155</td>\n",
       "      <td>28</td>\n",
       "    </tr>\n",
       "    <tr>\n",
       "      <th>3</th>\n",
       "      <td>0</td>\n",
       "      <td>dun say early hor c already say</td>\n",
       "      <td>49</td>\n",
       "      <td>11</td>\n",
       "    </tr>\n",
       "    <tr>\n",
       "      <th>4</th>\n",
       "      <td>0</td>\n",
       "      <td>nah think go usf live around though</td>\n",
       "      <td>61</td>\n",
       "      <td>13</td>\n",
       "    </tr>\n",
       "    <tr>\n",
       "      <th>...</th>\n",
       "      <td>...</td>\n",
       "      <td>...</td>\n",
       "      <td>...</td>\n",
       "      <td>...</td>\n",
       "    </tr>\n",
       "    <tr>\n",
       "      <th>5164</th>\n",
       "      <td>1</td>\n",
       "      <td>2nd time try contact 750 pound prize claim eas...</td>\n",
       "      <td>161</td>\n",
       "      <td>30</td>\n",
       "    </tr>\n",
       "    <tr>\n",
       "      <th>5165</th>\n",
       "      <td>0</td>\n",
       "      <td>b go esplanade fr home</td>\n",
       "      <td>37</td>\n",
       "      <td>8</td>\n",
       "    </tr>\n",
       "    <tr>\n",
       "      <th>5166</th>\n",
       "      <td>0</td>\n",
       "      <td>mood</td>\n",
       "      <td>57</td>\n",
       "      <td>10</td>\n",
       "    </tr>\n",
       "    <tr>\n",
       "      <th>5167</th>\n",
       "      <td>0</td>\n",
       "      <td>guy act like id interest buy something else ne...</td>\n",
       "      <td>125</td>\n",
       "      <td>26</td>\n",
       "    </tr>\n",
       "    <tr>\n",
       "      <th>5168</th>\n",
       "      <td>0</td>\n",
       "      <td>rofl true name</td>\n",
       "      <td>26</td>\n",
       "      <td>6</td>\n",
       "    </tr>\n",
       "  </tbody>\n",
       "</table>\n",
       "<p>5169 rows × 4 columns</p>\n",
       "</div>"
      ],
      "text/plain": [
       "      spam                                            Message  length  \\\n",
       "0        0  point crazy available bugis n great world la e...     111   \n",
       "1        0                                ok lar joke wif oni      29   \n",
       "2        1  free entry wkly comp win fa cup final tkts 21s...     155   \n",
       "3        0                    dun say early hor c already say      49   \n",
       "4        0                nah think go usf live around though      61   \n",
       "...    ...                                                ...     ...   \n",
       "5164     1  2nd time try contact 750 pound prize claim eas...     161   \n",
       "5165     0                             b go esplanade fr home      37   \n",
       "5166     0                                               mood      57   \n",
       "5167     0  guy act like id interest buy something else ne...     125   \n",
       "5168     0                                     rofl true name      26   \n",
       "\n",
       "      word_count  \n",
       "0             20  \n",
       "1              6  \n",
       "2             28  \n",
       "3             11  \n",
       "4             13  \n",
       "...          ...  \n",
       "5164          30  \n",
       "5165           8  \n",
       "5166          10  \n",
       "5167          26  \n",
       "5168           6  \n",
       "\n",
       "[5169 rows x 4 columns]"
      ]
     },
     "execution_count": 85,
     "metadata": {},
     "output_type": "execute_result"
    }
   ],
   "source": [
    "df"
   ]
  },
  {
   "cell_type": "markdown",
   "id": "236c3349",
   "metadata": {},
   "source": [
    "### Count Vectorisation - \n",
    "\n"
   ]
  },
  {
   "cell_type": "code",
   "execution_count": 86,
   "id": "47e0f25c",
   "metadata": {},
   "outputs": [],
   "source": [
    "#'I want to sleep'\n",
    "\n",
    "# I. want. to. sleep.\n",
    "# 1    1       1   1"
   ]
  },
  {
   "cell_type": "code",
   "execution_count": 87,
   "id": "39c02481",
   "metadata": {},
   "outputs": [],
   "source": [
    "from sklearn.feature_extraction.text import CountVectorizer"
   ]
  },
  {
   "cell_type": "code",
   "execution_count": 88,
   "id": "d174fced",
   "metadata": {},
   "outputs": [],
   "source": [
    "cv = CountVectorizer()"
   ]
  },
  {
   "cell_type": "code",
   "execution_count": 89,
   "id": "dbbbf4c5",
   "metadata": {},
   "outputs": [
    {
     "data": {
      "text/html": [
       "<div>\n",
       "<style scoped>\n",
       "    .dataframe tbody tr th:only-of-type {\n",
       "        vertical-align: middle;\n",
       "    }\n",
       "\n",
       "    .dataframe tbody tr th {\n",
       "        vertical-align: top;\n",
       "    }\n",
       "\n",
       "    .dataframe thead th {\n",
       "        text-align: right;\n",
       "    }\n",
       "</style>\n",
       "<table border=\"1\" class=\"dataframe\">\n",
       "  <thead>\n",
       "    <tr style=\"text-align: right;\">\n",
       "      <th></th>\n",
       "      <th>spam</th>\n",
       "      <th>Message</th>\n",
       "      <th>length</th>\n",
       "      <th>word_count</th>\n",
       "    </tr>\n",
       "  </thead>\n",
       "  <tbody>\n",
       "    <tr>\n",
       "      <th>0</th>\n",
       "      <td>0</td>\n",
       "      <td>point crazy available bugis n great world la e...</td>\n",
       "      <td>111</td>\n",
       "      <td>20</td>\n",
       "    </tr>\n",
       "    <tr>\n",
       "      <th>1</th>\n",
       "      <td>0</td>\n",
       "      <td>ok lar joke wif oni</td>\n",
       "      <td>29</td>\n",
       "      <td>6</td>\n",
       "    </tr>\n",
       "    <tr>\n",
       "      <th>2</th>\n",
       "      <td>1</td>\n",
       "      <td>free entry wkly comp win fa cup final tkts 21s...</td>\n",
       "      <td>155</td>\n",
       "      <td>28</td>\n",
       "    </tr>\n",
       "    <tr>\n",
       "      <th>3</th>\n",
       "      <td>0</td>\n",
       "      <td>dun say early hor c already say</td>\n",
       "      <td>49</td>\n",
       "      <td>11</td>\n",
       "    </tr>\n",
       "    <tr>\n",
       "      <th>4</th>\n",
       "      <td>0</td>\n",
       "      <td>nah think go usf live around though</td>\n",
       "      <td>61</td>\n",
       "      <td>13</td>\n",
       "    </tr>\n",
       "    <tr>\n",
       "      <th>...</th>\n",
       "      <td>...</td>\n",
       "      <td>...</td>\n",
       "      <td>...</td>\n",
       "      <td>...</td>\n",
       "    </tr>\n",
       "    <tr>\n",
       "      <th>5164</th>\n",
       "      <td>1</td>\n",
       "      <td>2nd time try contact 750 pound prize claim eas...</td>\n",
       "      <td>161</td>\n",
       "      <td>30</td>\n",
       "    </tr>\n",
       "    <tr>\n",
       "      <th>5165</th>\n",
       "      <td>0</td>\n",
       "      <td>b go esplanade fr home</td>\n",
       "      <td>37</td>\n",
       "      <td>8</td>\n",
       "    </tr>\n",
       "    <tr>\n",
       "      <th>5166</th>\n",
       "      <td>0</td>\n",
       "      <td>mood</td>\n",
       "      <td>57</td>\n",
       "      <td>10</td>\n",
       "    </tr>\n",
       "    <tr>\n",
       "      <th>5167</th>\n",
       "      <td>0</td>\n",
       "      <td>guy act like id interest buy something else ne...</td>\n",
       "      <td>125</td>\n",
       "      <td>26</td>\n",
       "    </tr>\n",
       "    <tr>\n",
       "      <th>5168</th>\n",
       "      <td>0</td>\n",
       "      <td>rofl true name</td>\n",
       "      <td>26</td>\n",
       "      <td>6</td>\n",
       "    </tr>\n",
       "  </tbody>\n",
       "</table>\n",
       "<p>5169 rows × 4 columns</p>\n",
       "</div>"
      ],
      "text/plain": [
       "      spam                                            Message  length  \\\n",
       "0        0  point crazy available bugis n great world la e...     111   \n",
       "1        0                                ok lar joke wif oni      29   \n",
       "2        1  free entry wkly comp win fa cup final tkts 21s...     155   \n",
       "3        0                    dun say early hor c already say      49   \n",
       "4        0                nah think go usf live around though      61   \n",
       "...    ...                                                ...     ...   \n",
       "5164     1  2nd time try contact 750 pound prize claim eas...     161   \n",
       "5165     0                             b go esplanade fr home      37   \n",
       "5166     0                                               mood      57   \n",
       "5167     0  guy act like id interest buy something else ne...     125   \n",
       "5168     0                                     rofl true name      26   \n",
       "\n",
       "      word_count  \n",
       "0             20  \n",
       "1              6  \n",
       "2             28  \n",
       "3             11  \n",
       "4             13  \n",
       "...          ...  \n",
       "5164          30  \n",
       "5165           8  \n",
       "5166          10  \n",
       "5167          26  \n",
       "5168           6  \n",
       "\n",
       "[5169 rows x 4 columns]"
      ]
     },
     "execution_count": 89,
     "metadata": {},
     "output_type": "execute_result"
    }
   ],
   "source": [
    "df"
   ]
  },
  {
   "cell_type": "code",
   "execution_count": 90,
   "id": "fe5e8e17",
   "metadata": {},
   "outputs": [],
   "source": [
    "y = df['spam']"
   ]
  },
  {
   "cell_type": "code",
   "execution_count": 91,
   "id": "d76e229a",
   "metadata": {},
   "outputs": [],
   "source": [
    "x = df['Message']"
   ]
  },
  {
   "cell_type": "code",
   "execution_count": 92,
   "id": "3d861f85",
   "metadata": {},
   "outputs": [],
   "source": [
    "from sklearn.model_selection import train_test_split"
   ]
  },
  {
   "cell_type": "code",
   "execution_count": 93,
   "id": "e0559c7c",
   "metadata": {},
   "outputs": [],
   "source": [
    "x_train, x_test, y_train, y_test = train_test_split(x, y, test_size=0.3, random_state=10)"
   ]
  },
  {
   "cell_type": "code",
   "execution_count": 94,
   "id": "822e3784",
   "metadata": {},
   "outputs": [],
   "source": [
    "x_train_cv = cv.fit_transform(x_train)"
   ]
  },
  {
   "cell_type": "code",
   "execution_count": 95,
   "id": "57bba083",
   "metadata": {},
   "outputs": [],
   "source": [
    "x_test_cv = cv.transform(x_test)"
   ]
  },
  {
   "cell_type": "code",
   "execution_count": 96,
   "id": "0b7ada3a",
   "metadata": {},
   "outputs": [
    {
     "data": {
      "text/plain": [
       "<3618x3054 sparse matrix of type '<class 'numpy.int64'>'\n",
       "\twith 24719 stored elements in Compressed Sparse Row format>"
      ]
     },
     "execution_count": 96,
     "metadata": {},
     "output_type": "execute_result"
    }
   ],
   "source": [
    "x_train_cv"
   ]
  },
  {
   "cell_type": "markdown",
   "id": "5df3a7a6",
   "metadata": {},
   "source": [
    "Classification Models - Logistic, decision Tree, Random forest, Naive Bayes, "
   ]
  },
  {
   "cell_type": "code",
   "execution_count": 97,
   "id": "3d404cd1",
   "metadata": {},
   "outputs": [],
   "source": [
    "from sklearn.linear_model import LogisticRegression"
   ]
  },
  {
   "cell_type": "code",
   "execution_count": 98,
   "id": "21843b19",
   "metadata": {},
   "outputs": [],
   "source": [
    "logR = LogisticRegression()"
   ]
  },
  {
   "cell_type": "code",
   "execution_count": 99,
   "id": "ae03f3ba",
   "metadata": {},
   "outputs": [
    {
     "data": {
      "text/plain": [
       "LogisticRegression()"
      ]
     },
     "execution_count": 99,
     "metadata": {},
     "output_type": "execute_result"
    }
   ],
   "source": [
    "logR.fit(x_train_cv, y_train)"
   ]
  },
  {
   "cell_type": "code",
   "execution_count": 100,
   "id": "79f7a0b4",
   "metadata": {},
   "outputs": [
    {
     "data": {
      "text/plain": [
       "array([0, 0, 0, ..., 0, 0, 0], dtype=uint8)"
      ]
     },
     "execution_count": 100,
     "metadata": {},
     "output_type": "execute_result"
    }
   ],
   "source": [
    "logR.predict(x_test_cv)"
   ]
  },
  {
   "cell_type": "code",
   "execution_count": 101,
   "id": "8c2b6e42",
   "metadata": {},
   "outputs": [],
   "source": [
    "from sklearn.metrics import accuracy_score, f1_score, recall_score, precision_score, roc_auc_score "
   ]
  },
  {
   "cell_type": "code",
   "execution_count": 102,
   "id": "d2bca410",
   "metadata": {},
   "outputs": [
    {
     "name": "stdout",
     "output_type": "stream",
     "text": [
      "0.9677627337201805\n"
     ]
    }
   ],
   "source": [
    "print(accuracy_score(y_test, logR.predict(x_test_cv)))"
   ]
  },
  {
   "cell_type": "code",
   "execution_count": 103,
   "id": "03c15965",
   "metadata": {},
   "outputs": [
    {
     "name": "stdout",
     "output_type": "stream",
     "text": [
      "0.8789394249462805\n"
     ]
    }
   ],
   "source": [
    "print(roc_auc_score(y_test, logR.predict(x_test_cv)))"
   ]
  },
  {
   "cell_type": "code",
   "execution_count": 104,
   "id": "9c23018f",
   "metadata": {},
   "outputs": [],
   "source": [
    "from sklearn.metrics import confusion_matrix"
   ]
  },
  {
   "cell_type": "code",
   "execution_count": 105,
   "id": "339082d3",
   "metadata": {},
   "outputs": [],
   "source": [
    "df_cv = pd.DataFrame(confusion_matrix(y_test, logR.predict(x_test_cv)), columns = ['predict_0', 'predict_1'], index = ['actual_0','actual_1'])"
   ]
  },
  {
   "cell_type": "code",
   "execution_count": 106,
   "id": "12cf22aa",
   "metadata": {},
   "outputs": [
    {
     "data": {
      "text/plain": [
       "<AxesSubplot:>"
      ]
     },
     "execution_count": 106,
     "metadata": {},
     "output_type": "execute_result"
    },
    {
     "data": {
      "image/png": "[encoded data removed]",
      "text/plain": [
       "<Figure size 640x480 with 2 Axes>"
      ]
     },
     "metadata": {},
     "output_type": "display_data"
    }
   ],
   "source": [
    "sns.heatmap(df_cv, annot = True, fmt='g')"
   ]
  },
  {
   "cell_type": "code",
   "execution_count": null,
   "id": "2c08c064",
   "metadata": {},
   "outputs": [],
   "source": []
  },
  {
   "cell_type": "code",
   "execution_count": null,
   "id": "94df182b",
   "metadata": {},
   "outputs": [],
   "source": []
  }
 ],
 "metadata": {
  "kernelspec": {
   "display_name": "Python 3 (ipykernel)",
   "language": "python",
   "name": "python3"
  },
  "language_info": {
   "codemirror_mode": {
    "name": "ipython",
    "version": 3
   },
   "file_extension": ".py",
   "mimetype": "text/x-python",
   "name": "python",
   "nbconvert_exporter": "python",
   "pygments_lexer": "ipython3",
   "version": "3.9.13"
  }
 },
 "nbformat": 4,
 "nbformat_minor": 5
}
